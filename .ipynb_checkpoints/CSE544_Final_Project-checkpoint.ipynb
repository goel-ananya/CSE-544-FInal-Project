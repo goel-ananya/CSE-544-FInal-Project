{
 "cells": [
  {
   "cell_type": "markdown",
   "metadata": {},
   "source": [
    "# Task 1\n",
    "Clean your dataset (remove missing values, sanitize data, etc.). Remove any outliers using the Tukey’s rule from class. Report what you found (number of outliers). Comment on your findings both for data cleaning (what issues you found, how you dealt with them) and outlier detection\n",
    "NV - Nevada\n",
    "NM - New Mexico"
   ]
  },
  {
   "cell_type": "code",
   "execution_count": 81,
   "metadata": {
    "collapsed": true
   },
   "outputs": [],
   "source": [
    "import pandas as pd\n",
    "import numpy as np\n",
    "from collections import Counter\n",
    "import sklearn\n",
    "from scipy import stats\n",
    "import matplotlib.pyplot as plt\n",
    "import os\n",
    "import seaborn as sns\n",
    "import math\n",
    "from math import *\n",
    "import datetime \n",
    "from datetime import timedelta \n",
    "from IPython.core.display import display\n",
    "from sklearn.linear_model import LinearRegression\n",
    "from sklearn.metrics import mean_absolute_error\n",
    "from statsmodels.tsa.arima_model import ARIMA\n",
    "import matplotlib.pyplot as plt\n",
    "from sklearn.ensemble import RandomForestRegressor\n",
    "from sklearn.tree import DecisionTreeRegressor\n",
    "from sklearn.model_selection import ShuffleSplit\n",
    "from sklearn import preprocessing"
   ]
  },
  {
   "cell_type": "code",
   "execution_count": 82,
   "metadata": {
    "collapsed": true
   },
   "outputs": [],
   "source": [
    "import pandas as pd"
   ]
  },
  {
   "cell_type": "code",
   "execution_count": 83,
   "metadata": {
    "collapsed": false
   },
   "outputs": [
    {
     "name": "stdout",
     "output_type": "stream",
     "text": [
      "           Date  NM confirmed  NV confirmed  NM deaths  NV deaths\n",
      "0    2020-01-22             0             0          0          0\n",
      "1    2020-01-23             0             0          0          0\n",
      "2    2020-01-24             0             0          0          0\n",
      "3    2020-01-25             0             0          0          0\n",
      "4    2020-01-26             0             0          0          0\n",
      "..          ...           ...           ...        ...        ...\n",
      "433  2021-03-30        191380        298052       3932       5127\n",
      "434  2021-03-31        191655        298328       3937       5137\n",
      "435  2021-04-01        191948        298651       3942       5144\n",
      "436  2021-04-02        192156        298651       3949       5144\n",
      "437  2021-04-03        192156        299440       3949       5161\n",
      "\n",
      "[438 rows x 5 columns]\n"
     ]
    }
   ],
   "source": [
    "\n",
    "df = pd.read_csv(\"17.csv\")\n",
    "print(df)"
   ]
  },
  {
   "cell_type": "markdown",
   "metadata": {},
   "source": [
    "# DATA PREPROCESSING\n",
    "Removing the cumulative values and replacing them with per day value of covid cases."
   ]
  },
  {
   "cell_type": "code",
   "execution_count": 84,
   "metadata": {
    "collapsed": false
   },
   "outputs": [
    {
     "name": "stdout",
     "output_type": "stream",
     "text": [
      "           Date NM confirmed NV confirmed NM deaths NV deaths\n",
      "0    2020-01-22            0            0         0         0\n",
      "1    2020-01-23            0            0         0         0\n",
      "2    2020-01-24            0            0         0         0\n",
      "3    2020-01-25            0            0         0         0\n",
      "4    2020-01-26            0            0         0         0\n",
      "..          ...          ...          ...       ...       ...\n",
      "433  2021-03-30          147          406         7         3\n",
      "434  2021-03-31          275          276         5        10\n",
      "435  2021-04-01          293          323         5         7\n",
      "436  2021-04-02          208            0         7         0\n",
      "437  2021-04-03            0          789         0        17\n",
      "\n",
      "[438 rows x 5 columns]\n"
     ]
    }
   ],
   "source": [
    "df1 = pd.DataFrame(columns=[\"Date\",\"NM confirmed\",\"NV confirmed\",\"NM deaths\",\"NV deaths\"])\n",
    "df1['Date'] = df[\"Date\"]\n",
    "df1['NM confirmed'].loc[0] = 0\n",
    "df1['NV confirmed'].loc[0] = 0\n",
    "df1['NM deaths'].loc[0] = 0\n",
    "df1['NV deaths'].loc[0] = 0\n",
    "\n",
    "for i in range(1,438):\n",
    "    df1[\"NM confirmed\"].loc[i] = df[\"NM confirmed\"].loc[i] - df[\"NM confirmed\"].loc[i-1]\n",
    "    df1[\"NV confirmed\"].loc[i] = df[\"NV confirmed\"].loc[i] - df[\"NV confirmed\"].loc[i-1]\n",
    "    df1[\"NM deaths\"].loc[i] = df[\"NM deaths\"].loc[i] - df[\"NM deaths\"].loc[i-1]\n",
    "    df1[\"NV deaths\"].loc[i] = df[\"NV deaths\"].loc[i] - df[\"NV deaths\"].loc[i-1]\n",
    "\n",
    "df1.to_csv(\"Cleaned_data.csv\")\n",
    "print(df1)"
   ]
  },
  {
   "cell_type": "markdown",
   "metadata": {},
   "source": [
    "# Box Plots  "
   ]
  },
  {
   "cell_type": "code",
   "execution_count": 85,
   "metadata": {
    "collapsed": false,
    "scrolled": true
   },
   "outputs": [
    {
     "data": {
      "image/png": "[encoded data removed]",
      "text/plain": [
       "<Figure size 432x288 with 1 Axes>"
      ]
     },
     "metadata": {
      "needs_background": "light"
     },
     "output_type": "display_data"
    }
   ],
   "source": [
    "fig1 = sns.boxplot(y=df1['NM confirmed'])"
   ]
  },
  {
   "cell_type": "code",
   "execution_count": 86,
   "metadata": {
    "collapsed": false
   },
   "outputs": [
    {
     "data": {
      "image/png": "[encoded data removed]",
      "text/plain": [
       "<Figure size 432x288 with 1 Axes>"
      ]
     },
     "metadata": {
      "needs_background": "light"
     },
     "output_type": "display_data"
    }
   ],
   "source": [
    "fig2 = sns.boxplot(y=df1['NM deaths'])"
   ]
  },
  {
   "cell_type": "markdown",
   "metadata": {},
   "source": [
    "fig3 = sns.boxplot(y=df1['NV deaths'])"
   ]
  },
  {
   "cell_type": "code",
   "execution_count": 87,
   "metadata": {
    "collapsed": false
   },
   "outputs": [
    {
     "data": {
      "image/png": "[encoded data removed]",
      "text/plain": [
       "<Figure size 432x288 with 1 Axes>"
      ]
     },
     "metadata": {
      "needs_background": "light"
     },
     "output_type": "display_data"
    }
   ],
   "source": [
    "fig4 = sns.boxplot(y=df1['NV confirmed'])"
   ]
  },
  {
   "cell_type": "code",
   "execution_count": 88,
   "metadata": {
    "collapsed": false
   },
   "outputs": [
    {
     "data": {
      "image/png": "[encoded data removed]",
      "text/plain": [
       "<Figure size 432x288 with 1 Axes>"
      ]
     },
     "metadata": {
      "needs_background": "light"
     },
     "output_type": "display_data"
    }
   ],
   "source": [
    "fig2 = sns.boxplot(y=df1['NV deaths'])"
   ]
  },
  {
   "cell_type": "markdown",
   "metadata": {},
   "source": [
    "# Task 1: Outlier Detection using Tukey's Rule"
   ]
  },
  {
   "cell_type": "code",
   "execution_count": 89,
   "metadata": {
    "collapsed": false
   },
   "outputs": [
    {
     "name": "stdout",
     "output_type": "stream",
     "text": [
      "              Date  NM confirmed  NV confirmed  NM deaths  NV deaths\n",
      "count          438           438           438        438        438\n",
      "unique         438           301           315         46         60\n",
      "top     2020-05-16             0             0          0          0\n",
      "freq             1            56            86         86        126\n",
      "Outliers in\n",
      "NM confirmed\n",
      "are\n",
      "[289 290 292 293 294 295 299 300 301 302 303 304 305 306 307 308 309 310\n",
      " 311 312 313 314 315 316 317 318 320 322 323 324 325 326 327 328 329 330\n",
      " 331 332 335 337 338 343 344 345 350 351 352 353 358 359]\n",
      "Outliers in\n",
      "NV confirmed\n",
      "are\n",
      "[302 306 307 308 310 311 314 316 317 318 319 320 321 322 325 326 327 329\n",
      " 331 332 334 336 339 344 347 350 351 352 353 357 358 360 363 365 373]\n",
      "Outliers in\n",
      "NM deaths\n",
      "are\n",
      "[300 305 307 310 313 315 316 317 318 322 324 326 328 329 330 331 336 337\n",
      " 338 340 341 343 344 346 350 351 352 356 358 359 360 364 365 366 367 368\n",
      " 372 378 385]\n",
      "Outliers in\n",
      "NV deaths\n",
      "are\n",
      "[ 85 190 211 226 316 321 323 324 325 328 329 332 336 337 343 344 350 351\n",
      " 352 353 357 358 360 365 366 367 370 371 373 374 378 379 380 382 386 394]\n",
      "              Date  NM confirmed  NV confirmed  NM deaths  NV deaths\n",
      "count          438           438           438        438        438\n",
      "unique         438           301           315         46         60\n",
      "top     2020-05-16             0             0          0          0\n",
      "freq             1            56            86         86        126\n"
     ]
    }
   ],
   "source": [
    "\n",
    "from collections import Counter\n",
    "\n",
    "\n",
    "def detect_outliers(df, n, features):\n",
    "    outlier_indices = []\n",
    "\n",
    "    # iterate over features(columns)\n",
    "    for col in features:\n",
    "        # 1st quartile (25%)\n",
    "        Q1 = np.percentile(df[col], 25)\n",
    "        # 3rd quartile (75%)\n",
    "        Q3 = np.percentile(df[col], 75)\n",
    "        # Interquartile range (IQR)\n",
    "        IQR = Q3 - Q1\n",
    "\n",
    "        #print(IQR)\n",
    "        # outlier step\n",
    "        outlier_step = 1.5 * IQR\n",
    "        \n",
    "        outlier_list_col = df[(df[col] < Q1 - outlier_step) | (df[col] > Q3 + outlier_step)].index\n",
    "\n",
    "        #print(outlier_indices)\n",
    "        # append the found outlier indices for col to the list of outlier indices \n",
    "        outlier_indices.extend(outlier_list_col)\n",
    "        print(\"Outliers in\")\n",
    "        print(col)\n",
    "        print(\"are\")\n",
    "        print(outlier_list_col.to_numpy())\n",
    "\n",
    "    # select observations containing more than 2 outliers\n",
    "    outlier_indices = Counter(outlier_indices)        \n",
    "    multiple_outliers = list(k for k, v in outlier_indices.items() if v > n)\n",
    "\n",
    "    #print(multiple_outliers)\n",
    "    return multiple_outliers\n",
    "\n",
    "# detect outliers from list of features\n",
    "lof = ['NM confirmed','NV confirmed','NM deaths','NV deaths']\n",
    "\n",
    "print(df1.describe())\n",
    "# params dataset, number of outliers for rejection, list of features\n",
    "Outliers_to_drop = detect_outliers(df1, 1, lof)\n",
    "#print(Outliers_to_drop)\n",
    "print(df1.describe())"
   ]
  },
  {
   "cell_type": "markdown",
   "metadata": {},
   "source": [
    "# Removing Outliers"
   ]
  },
  {
   "cell_type": "code",
   "execution_count": 90,
   "metadata": {
    "collapsed": false
   },
   "outputs": [
    {
     "name": "stdout",
     "output_type": "stream",
     "text": [
      "              Date  NM confirmed  NV confirmed  NM deaths  NV deaths\n",
      "count          438           438           438        438        438\n",
      "unique         438           301           315         46         60\n",
      "top     2020-05-16             0             0          0          0\n",
      "freq             1            56            86         86        126\n",
      "Dataset information after removing the outliers: \n",
      "\n",
      "              Date  NM confirmed  NV confirmed  NM deaths  NV deaths\n",
      "count          393           393           393        393        393\n",
      "unique         393           258           273         34         48\n",
      "top     2020-08-28             0             0          0          0\n",
      "freq             1            55            83         85        123\n",
      "\n",
      "\n",
      "As we can observe, initially there were 438 rows and now there are 393, we have removed 45 rows\n",
      "\n",
      "\n"
     ]
    }
   ],
   "source": [
    "print(df1.describe())\n",
    "dataFinal= df1[~df1.index.isin(Outliers_to_drop)]\n",
    "\n",
    "print(\"Dataset information after removing the outliers: \\n\")\n",
    "print(dataFinal.describe())\n",
    "print(\"\\n\")\n",
    "\n",
    "print(\"As we can observe, initially there were 438 rows and now there are 393, we have removed 45 rows\")\n",
    "print(\"\\n\")"
   ]
  },
  {
   "cell_type": "markdown",
   "metadata": {},
   "source": [
    "# Plotting the curves for different columns\n"
   ]
  },
  {
   "cell_type": "code",
   "execution_count": 91,
   "metadata": {
    "collapsed": false
   },
   "outputs": [
    {
     "data": {
      "text/plain": [
       "[<matplotlib.lines.Line2D at 0x7fb568d265e0>]"
      ]
     },
     "execution_count": 91,
     "metadata": {},
     "output_type": "execute_result"
    },
    {
     "data": {
      "image/png": "[encoded data removed]",
      "text/plain": [
       "<Figure size 432x288 with 1 Axes>"
      ]
     },
     "metadata": {
      "needs_background": "light"
     },
     "output_type": "display_data"
    }
   ],
   "source": [
    "plt.plot(dataFinal['NM confirmed'])"
   ]
  },
  {
   "cell_type": "code",
   "execution_count": 92,
   "metadata": {
    "collapsed": false
   },
   "outputs": [
    {
     "data": {
      "text/plain": [
       "[<matplotlib.lines.Line2D at 0x7fb579eb5100>]"
      ]
     },
     "execution_count": 92,
     "metadata": {},
     "output_type": "execute_result"
    },
    {
     "data": {
      "image/png": "[encoded data removed]",
      "text/plain": [
       "<Figure size 432x288 with 1 Axes>"
      ]
     },
     "metadata": {
      "needs_background": "light"
     },
     "output_type": "display_data"
    }
   ],
   "source": [
    "plt.plot(dataFinal['NV confirmed'])"
   ]
  },
  {
   "cell_type": "code",
   "execution_count": 93,
   "metadata": {
    "collapsed": false
   },
   "outputs": [
    {
     "data": {
      "text/plain": [
       "[<matplotlib.lines.Line2D at 0x7fb57238c1f0>]"
      ]
     },
     "execution_count": 93,
     "metadata": {},
     "output_type": "execute_result"
    },
    {
     "data": {
      "image/png": "[encoded data removed]",
      "text/plain": [
       "<Figure size 432x288 with 1 Axes>"
      ]
     },
     "metadata": {
      "needs_background": "light"
     },
     "output_type": "display_data"
    }
   ],
   "source": [
    "plt.plot(dataFinal['NM deaths'])"
   ]
  },
  {
   "cell_type": "code",
   "execution_count": 94,
   "metadata": {
    "collapsed": false
   },
   "outputs": [
    {
     "data": {
      "text/plain": [
       "[<matplotlib.lines.Line2D at 0x7fb57238c670>]"
      ]
     },
     "execution_count": 94,
     "metadata": {},
     "output_type": "execute_result"
    },
    {
     "data": {
      "image/png": "[encoded data removed]",
      "text/plain": [
       "<Figure size 432x288 with 1 Axes>"
      ]
     },
     "metadata": {
      "needs_background": "light"
     },
     "output_type": "display_data"
    }
   ],
   "source": [
    "plt.plot(dataFinal['NV deaths'])"
   ]
  },
  {
   "cell_type": "markdown",
   "metadata": {},
   "source": [
    "# Task 2a\n",
    "Use your COVID19 dataset to predict the COVID19 fatality and #cases for the next one week. Use the following four prediction techniques: (i) AR(3), (ii) AR(5), (iii) EWMA with alpha = 0.5, and (iv) EWMA with alpha = 0.8. Make sure that your dataset allows you to verify the one week prediction. For example, use the first three weeks of data to predict the fourth week, and report the accuracy of your predictions using the actual fourth week data. Use metrics learned in class (MAPE as a % and MSE) to report accuracy numbers."
   ]
  },
  {
   "cell_type": "code",
   "execution_count": 95,
   "metadata": {
    "collapsed": false
   },
   "outputs": [
    {
     "name": "stdout",
     "output_type": "stream",
     "text": [
      "Predicted values, MAPE and MSE for NM confirmed column using EWMA(0.5)\n",
      "[23939.310861587524, 24120.655430793762, 24258.32771539688, 24363.66385769844, 24449.33192884922, 24590.66596442461, 24755.332982212305]\n",
      "MSE:  78805.2932280279\n",
      "MAPE:  1.1128022525383556\n",
      "Predicted values, MAPE and MSE for NM confirmed column using EWMA(0.8)\n",
      "[24056.59500545368, 24252.919001090744, 24367.383800218147, 24448.676760043625, 24517.735352008724, 24689.14707040175, 24873.829414080345]\n",
      "MSE:  32279.585409043128\n",
      "MAPE:  0.6896723334742848\n",
      "Predicted values, MAPE and MSE for NV confirmed column using EWMA(0.5)\n",
      "[63959.48520278931, 64514.24260139465, 65057.62130069733, 65533.81065034866, 65973.40532517433, 66319.70266258717, 66756.85133129358]\n",
      "MSE:  933642.5217788888\n",
      "MAPE:  1.4403479135973638\n",
      "Predicted values, MAPE and MSE for NV confirmed column using EWMA(0.8)\n",
      "[64618.69736554923, 64978.93947310982, 65476.587894622, 65903.3175789244, 66311.0635157849, 66595.01270315696, 67074.20254063139]\n",
      "MSE:  317681.56909029145\n",
      "MAPE:  0.8265661685839552\n",
      "Predicted values, MAPE and MSE for NM deaths column using EWMA(0.5)\n",
      "[733.9197020530701, 738.459851026535, 741.7299255132675, 744.3649627566338, 747.1824813783169, 751.0912406891584, 757.5456203445792]\n",
      "MSE:  71.6982354634862\n",
      "MAPE:  1.073503878707295\n",
      "Predicted values, MAPE and MSE for NM deaths column using EWMA(0.8)\n",
      "[737.7424089248121, 741.9484817849625, 744.3896963569923, 746.4779392713987, 749.2955878542797, 753.8591175708559, 761.9718235141711]\n",
      "MSE:  30.976142479694722\n",
      "MAPE:  0.6678169499320734\n",
      "Predicted values, MAPE and MSE for NV deaths column using EWMA(0.5)\n",
      "[1158.0162563323975, 1177.5081281661987, 1187.2540640830994, 1193.6270320415497, 1211.8135160207748, 1230.9067580103874, 1240.4533790051937]\n",
      "MSE:  1053.4949132620761\n",
      "MAPE:  2.4433640355936754\n",
      "Predicted values, MAPE and MSE for NV deaths column using EWMA(0.8)\n",
      "[1186.2458425590378, 1194.849168511808, 1196.5698337023614, 1199.3139667404719, 1223.8627933480946, 1244.7725586696188, 1248.9545117339235]\n",
      "MSE:  461.6593640315824\n",
      "MAPE:  1.332009556872688\n",
      "Predicted values, MAPE and MSE for NM confirmed columns using AR\n",
      "Predicted confirmed cases for NM confirmed with AR = 3:  [24306.935545714245, 24514.854422006392, 24605.58961900658, 24669.361609650397, 24711.271653828513, 24914.87506764991, 25107.135634391256]\n",
      "MSE:  7937.011363475523\n",
      "MAPE:  0.2825468114453486\n",
      "Predicted confirmed cases for NM confirmed with AR = 5:  [24306.935545714245, 24514.854422006392, 24605.58961900658, 24669.361609650397, 24711.271653828513, 24914.87506764991, 25107.135634391256, 24359.328281843023, 24540.27493370124, 24642.05456188183, 24723.87331968268, 24775.50621081743, 24979.380285011546, 25182.13932304536]\n",
      "MSE:  7937.011363475523\n",
      "MAPE:  0.2825468114453486\n",
      "Predicted values, MAPE and MSE for NV confirmed columns using AR\n",
      "Predicted confirmed cases for NV confirmed with AR = 3:  [65832.13648699247, 66110.32639172653, 66609.94469266142, 66832.26732775834, 67171.0772671506, 67327.81387948134, 67831.34418272649]\n",
      "MSE:  235849.3229125714\n",
      "MAPE:  0.6395136447175592\n",
      "Predicted confirmed cases for NV confirmed with AR = 5:  [65832.13648699247, 66110.32639172653, 66609.94469266142, 66832.26732775834, 67171.0772671506, 67327.81387948134, 67831.34418272649, 66368.33414047491, 66805.98688751165, 67328.72763504875, 67659.11311809777, 68038.39724304412, 67640.04242673202, 68089.92552091154]\n",
      "MSE:  235849.3229125714\n",
      "MAPE:  0.6395136447175592\n",
      "Predicted values, MAPE and MSE for NM deaths columns using AR\n",
      "Predicted confirmed cases for NM deaths with AR = 3:  [747.611344976972, 751.4746167423447, 752.6499780292742, 753.3930661876027, 755.5846349233761, 760.6839342695297, 770.4726337139101]\n",
      "MSE:  18.573941310720528\n",
      "MAPE:  0.5232442612526801\n",
      "Predicted confirmed cases for NM deaths with AR = 5:  [747.611344976972, 751.4746167423447, 752.6499780292742, 753.3930661876027, 755.5846349233761, 760.6839342695297, 770.4726337139101, 748.2319077473617, 752.3652412943767, 753.8291875244574, 753.6929575841868, 755.1897961700847, 760.6956572849627, 771.8522290865747]\n",
      "MSE:  18.573941310720528\n",
      "MAPE:  0.5232442612526801\n",
      "Predicted values, MAPE and MSE for NV deaths columns using AR\n",
      "Predicted confirmed cases for NV deaths with AR = 3:  [1226.9175390181902, 1228.51663757138, 1221.1642321692186, 1218.0219805170143, 1250.528829131351, 1270.4395122750377, 1268.8081252377747]\n",
      "MSE:  461.2504126305854\n",
      "MAPE:  1.5658331015840672\n",
      "Predicted confirmed cases for NV deaths with AR = 5:  [1226.9175390181902, 1228.51663757138, 1221.1642321692186, 1218.0219805170143, 1250.528829131351, 1270.4395122750377, 1268.8081252377747, 1258.3710650469814, 1259.8534962538465, 1260.2916823388518, 1257.7109268849326, 1282.971191229567, 1295.3626772817588, 1288.467562348432]\n",
      "MSE:  461.2504126305854\n",
      "MAPE:  1.5658331015840672\n"
     ]
    }
   ],
   "source": [
    "import numpy as np\n",
    "import pandas as pd\n",
    "import matplotlib.pyplot as plt\n",
    "from scipy import stats\n",
    "import datetime\n",
    "import math\n",
    "from scipy.stats import gamma\n",
    "\n",
    "def calculateErrors(orig,pred):\n",
    "    ape = 0\n",
    "    sse = 0\n",
    "    n = len(orig)\n",
    "    for i in range(n):\n",
    "        sse += math.pow((orig[i]-pred[i]),2)\n",
    "        if(orig[i] != 0):\n",
    "            ape += (abs(orig[i]-pred[i])*100)/orig[i]\n",
    "        \n",
    "    MSE = sse/n\n",
    "    MAPE = ape/n\n",
    "    \n",
    "    return MSE,MAPE\n",
    "\n",
    "\n",
    "def calculateEWMA(data,alpha):\n",
    "    \n",
    "    t = 21\n",
    "    y_pred = []\n",
    "    for i in range(7):\n",
    "        res = 0\n",
    "        for j in range (t+i):\n",
    "            res += pow((1-alpha),j) * data[t-j-1+i]\n",
    "        \n",
    "        y_pred.append(alpha*res)\n",
    "\n",
    "    return y_pred\n",
    "\n",
    "\n",
    "def calculateAR(data,ar_val,day):\n",
    "        \n",
    "    t = 21+day\n",
    "    rows = t - ar_val\n",
    "    cols = ar_val + 1\n",
    "    x_mat = []\n",
    "\n",
    "    for i in range(rows):\n",
    "        temp = [1]\n",
    "        for j in range(1,cols):\n",
    "            temp.append(data[j-1+i])\n",
    "\n",
    "        x_mat.append(temp)\n",
    "\n",
    "    x_mat = np.array(x_mat)\n",
    "    product_of_X_and_X_transpose = np.matmul(x_mat.T,x_mat)    \n",
    "    inverseXY = np.linalg.inv(product_of_X_and_X_transpose)   \n",
    "    coeff = np.matmul(np.matmul(inverseXY,x_mat.T),data[ar_val:t])\n",
    "\n",
    "    y_pred = coeff[0]\n",
    "    \n",
    "    for j in  range(ar_val):\n",
    "        y_pred += coeff[j+1] * data[t-j-1]\n",
    "        t = t+1\n",
    "    \n",
    "\n",
    "    return y_pred\n",
    "\n",
    "\n",
    "df = pd.read_csv(\"17.csv\")\n",
    "df['Date'] = pd.to_datetime(df['Date'])\n",
    "df = df[df['Date'] >= datetime.datetime(2020,8,1)]\n",
    "\n",
    "print(\"Predicted values, MAPE and MSE for NM confirmed column using EWMA(0.5)\")\n",
    "data = list(df['NM confirmed'])\n",
    "predicted_val = calculateEWMA(data,0.5)\n",
    "print(predicted_val)\n",
    "MSE,MAPE = calculateErrors(data[21:28],predicted_val)\n",
    "print(\"MSE: \",MSE)\n",
    "print(\"MAPE: \",MAPE)\n",
    "\n",
    "print(\"Predicted values, MAPE and MSE for NM confirmed column using EWMA(0.8)\")\n",
    "predicted_val = calculateEWMA(data,0.8)\n",
    "print(predicted_val)\n",
    "MSE,MAPE = calculateErrors(data[21:28],predicted_val)\n",
    "print(\"MSE: \",MSE)\n",
    "print(\"MAPE: \",MAPE)\n",
    "\n",
    "print(\"Predicted values, MAPE and MSE for NV confirmed column using EWMA(0.5)\")\n",
    "data = list(df['NV confirmed'])\n",
    "predicted_val = calculateEWMA(data,0.5)\n",
    "print(predicted_val)\n",
    "MSE,MAPE = calculateErrors(data[21:28],predicted_val)\n",
    "print(\"MSE: \",MSE)\n",
    "print(\"MAPE: \",MAPE)\n",
    "\n",
    "print(\"Predicted values, MAPE and MSE for NV confirmed column using EWMA(0.8)\")\n",
    "predicted_val = calculateEWMA(data,0.8)\n",
    "print(predicted_val)\n",
    "MSE,MAPE = calculateErrors(data[21:28],predicted_val)\n",
    "print(\"MSE: \",MSE)\n",
    "print(\"MAPE: \",MAPE)\n",
    "\n",
    "print(\"Predicted values, MAPE and MSE for NM deaths column using EWMA(0.5)\")\n",
    "data = list(df['NM deaths'])\n",
    "predicted_val = calculateEWMA(data,0.5)\n",
    "print(predicted_val)\n",
    "MSE,MAPE = calculateErrors(data[21:28],predicted_val)\n",
    "print(\"MSE: \",MSE)\n",
    "print(\"MAPE: \",MAPE)\n",
    "\n",
    "print(\"Predicted values, MAPE and MSE for NM deaths column using EWMA(0.8)\")\n",
    "predicted_val = calculateEWMA(data,0.8)\n",
    "print(predicted_val)\n",
    "MSE,MAPE = calculateErrors(data[21:28],predicted_val)\n",
    "print(\"MSE: \",MSE)\n",
    "print(\"MAPE: \",MAPE)\n",
    "\n",
    "print(\"Predicted values, MAPE and MSE for NV deaths column using EWMA(0.5)\")\n",
    "data = list(df['NV deaths'])\n",
    "predicted_val = calculateEWMA(data,0.5)\n",
    "print(predicted_val)\n",
    "MSE,MAPE = calculateErrors(data[21:28],predicted_val)\n",
    "print(\"MSE: \",MSE)\n",
    "print(\"MAPE: \",MAPE)\n",
    "\n",
    "print(\"Predicted values, MAPE and MSE for NV deaths column using EWMA(0.8)\")\n",
    "predicted_val = calculateEWMA(data,0.8)\n",
    "print(predicted_val)\n",
    "MSE,MAPE = calculateErrors(data[21:28],predicted_val)\n",
    "print(\"MSE: \",MSE)\n",
    "print(\"MAPE: \",MAPE)\n",
    "\n",
    "\n",
    "print(\"Predicted values, MAPE and MSE for NM confirmed columns using AR\")\n",
    "data = list(df['NM confirmed'])\n",
    "\n",
    "predicted_cases = []\n",
    "original_vals = data[21:28]\n",
    "for i in range(7):\n",
    "    prediction = calculateAR(data,3,i)\n",
    "    predicted_cases.append(prediction)\n",
    "\n",
    "print(\"Predicted confirmed cases for NM confirmed with AR = 3: \", predicted_cases)\n",
    "\n",
    "MSE,MAPE = calculateErrors(data[21:28],predicted_cases)\n",
    "print(\"MSE: \",MSE)\n",
    "print(\"MAPE: \",MAPE)\n",
    "\n",
    "for i in range(7):\n",
    "    prediction = calculateAR(data,5,i)\n",
    "    predicted_cases.append(prediction)\n",
    "\n",
    "print(\"Predicted confirmed cases for NM confirmed with AR = 5: \", predicted_cases)\n",
    "MSE,MAPE = calculateErrors(data[21:28],predicted_cases)\n",
    "print(\"MSE: \",MSE)\n",
    "print(\"MAPE: \",MAPE)\n",
    "\n",
    "print(\"Predicted values, MAPE and MSE for NV confirmed columns using AR\")\n",
    "data = list(df['NV confirmed'])\n",
    "\n",
    "predicted_cases = []\n",
    "original_vals = data[21:28]\n",
    "for i in range(7):\n",
    "    prediction = calculateAR(data,3,i)\n",
    "    predicted_cases.append(prediction)\n",
    "\n",
    "print(\"Predicted confirmed cases for NV confirmed with AR = 3: \", predicted_cases)\n",
    "MSE,MAPE = calculateErrors(data[21:28],predicted_cases)\n",
    "print(\"MSE: \",MSE)\n",
    "print(\"MAPE: \",MAPE)\n",
    "\n",
    "for i in range(7):\n",
    "    prediction = calculateAR(data,5,i)\n",
    "    predicted_cases.append(prediction)\n",
    "\n",
    "print(\"Predicted confirmed cases for NV confirmed with AR = 5: \", predicted_cases)\n",
    "MSE,MAPE = calculateErrors(data[21:28],predicted_cases)\n",
    "print(\"MSE: \",MSE)\n",
    "print(\"MAPE: \",MAPE)\n",
    "\n",
    "print(\"Predicted values, MAPE and MSE for NM deaths columns using AR\")\n",
    "data = list(df['NM deaths'])\n",
    "\n",
    "predicted_cases = []\n",
    "original_vals = data[21:28]\n",
    "for i in range(7):\n",
    "    prediction = calculateAR(data,3,i)\n",
    "    predicted_cases.append(prediction)\n",
    "\n",
    "print(\"Predicted confirmed cases for NM deaths with AR = 3: \", predicted_cases)\n",
    "MSE,MAPE = calculateErrors(data[21:28],predicted_cases)\n",
    "print(\"MSE: \",MSE)\n",
    "print(\"MAPE: \",MAPE)\n",
    "\n",
    "for i in range(7):\n",
    "    prediction = calculateAR(data,5,i)\n",
    "    predicted_cases.append(prediction)\n",
    "\n",
    "print(\"Predicted confirmed cases for NM deaths with AR = 5: \", predicted_cases)\n",
    "MSE,MAPE = calculateErrors(data[21:28],predicted_cases)\n",
    "print(\"MSE: \",MSE)\n",
    "print(\"MAPE: \",MAPE)\n",
    "\n",
    "print(\"Predicted values, MAPE and MSE for NV deaths columns using AR\")\n",
    "data = list(df['NV deaths'])\n",
    "\n",
    "predicted_cases = []\n",
    "original_vals = data[21:28]\n",
    "for i in range(7):\n",
    "    prediction = calculateAR(data,3,i)\n",
    "    predicted_cases.append(prediction)\n",
    "\n",
    "print(\"Predicted confirmed cases for NV deaths with AR = 3: \", predicted_cases)\n",
    "MSE,MAPE = calculateErrors(data[21:28],predicted_cases)\n",
    "print(\"MSE: \",MSE)\n",
    "print(\"MAPE: \",MAPE)\n",
    "for i in range(7):\n",
    "    prediction = calculateAR(data,5,i)\n",
    "    predicted_cases.append(prediction)\n",
    "\n",
    "print(\"Predicted confirmed cases for NV deaths with AR = 5: \", predicted_cases)\n",
    "MSE,MAPE = calculateErrors(data[21:28],predicted_cases)\n",
    "print(\"MSE: \",MSE)\n",
    "print(\"MAPE: \",MAPE)"
   ]
  },
  {
   "cell_type": "markdown",
   "metadata": {},
   "source": [
    "# Task 2b\n",
    "Apply the Wald’s test, Z-test, and t-test (assume all are applicable) to check whether the mean of COVID19 deaths and #cases are different from the second-last week to the last week in your dataset. Use MLE for Wald’s test as the estimator; assume for Wald’s estimator purposes that daily data is Poisson distributed. Note, you have to report results for deaths and #cases separately, so think of this as two inferences. After running the test and reporting the numbers, check and comment on whether the tests are applicable or not. First use one-sample tests by computing the mean of the second-last week data and using that as guess for last week data. Then, repeat with a two-sample version of Wald and t-tests. For t-test, use both paired and unpaired tests. Use alpha value of 0.05 for all. For t-test, the threshold to check against is tn-1, alpha/2 for two-tailed, where n is the number of data points. You can find these values in online t tables, similar to z tables. For Z-test, use the sample standard deviation of the entire covid19 dataset you have and use that as the true sigma value."
   ]
  },
  {
   "cell_type": "code",
   "execution_count": 96,
   "metadata": {
    "collapsed": false
   },
   "outputs": [
    {
     "name": "stdout",
     "output_type": "stream",
     "text": [
      "           Date NM confirmed NV confirmed NM deaths NV deaths\n",
      "376  2021-02-01          486          819        12         8\n",
      "377  2021-02-02          432            0        15         0\n",
      "379  2021-02-04          559          881        17        51\n",
      "380  2021-02-05          582          888        23        39\n",
      "381  2021-02-06          421            0         8         0\n",
      "382  2021-02-07          343         1533        13        56\n",
      "383  2021-02-08          311            0        13         0\n",
      "384  2021-02-09          413          546        19         2\n",
      "385  2021-02-10          509          541        30        36\n",
      "386  2021-02-11          534         1236        18        76\n",
      "387  2021-02-12          400          631        23        26\n",
      "388  2021-02-13          565          810        14        31\n",
      "389  2021-02-14          282            0        13         0\n",
      "390  2021-02-15          190          514         9        15\n",
      "391  2021-02-16          299          657        12        24\n",
      "392  2021-02-17          272            0        12         0\n",
      "393  2021-02-18          407            0        18         0\n",
      "394  2021-02-19          312         1255        19        99\n",
      "395  2021-02-20          425          363        11        34\n",
      "396  2021-02-21          315          301        14         4\n",
      "397  2021-02-22          233            0        11         0\n",
      "398  2021-02-23          312          557         9        31\n",
      "399  2021-02-24          445          506        14        17\n",
      "400  2021-02-25          299          563        13        14\n",
      "401  2021-02-26          657          380        14         9\n",
      "402  2021-02-27          162          457        15        15\n",
      "403  2021-02-28          240          265        16         0\n",
      "           Date NM confirmed NV confirmed NM deaths NV deaths\n",
      "404  2021-03-01          165            0        13         0\n",
      "405  2021-03-02          244            0        11         0\n",
      "406  2021-03-03          356          905        13        29\n",
      "407  2021-03-04          259          376        16        18\n",
      "408  2021-03-05          297          380        18        15\n",
      "409  2021-03-06          282          488        10        15\n",
      "410  2021-03-07          180            0        12         0\n",
      "411  2021-03-08          121          429         3         4\n",
      "412  2021-03-09          201          419        18        13\n",
      "413  2021-03-10          247          318         9        13\n",
      "414  2021-03-11          232            0         6         0\n",
      "415  2021-03-12          262         1465         5        30\n",
      "416  2021-03-13          182            0         1         0\n",
      "417  2021-03-14          145          661         2        20\n",
      "418  2021-03-15          178          179         1         3\n",
      "419  2021-03-16          176          341         7        14\n",
      "420  2021-03-17          243            0        12         0\n",
      "421  2021-03-18          250          589         5        22\n",
      "422  2021-03-19          218          256         5         4\n",
      "423  2021-03-20          185          264         6         8\n",
      "424  2021-03-21          171            0         0         0\n",
      "425  2021-03-22          164          363         3         2\n",
      "426  2021-03-23          167           11        11         0\n",
      "427  2021-03-24          211          377         6        29\n",
      "428  2021-03-25          217          345         7        10\n",
      "429  2021-03-26          229          443         7        12\n",
      "430  2021-03-27          169          297         2         8\n",
      "431  2021-03-28          161          143         0         1\n",
      "432  2021-03-29          182            0         0         0\n",
      "433  2021-03-30          147          406         7         3\n",
      "434  2021-03-31          275          276         5        10\n"
     ]
    }
   ],
   "source": [
    "\n",
    "#feb21\n",
    "feb21_data = dataFinal[(dataFinal['Date'] > '2021-01-31') & (dataFinal['Date'] < '2021-03-01')]\n",
    "\n",
    "#march21\n",
    "march21_data = dataFinal[(dataFinal['Date'] > '2021-02-28') & (dataFinal['Date'] < '2021-04-01')]\n",
    "\n",
    "\n",
    "\n",
    "print(feb21_data)\n",
    "\n",
    "print(march21_data)\n"
   ]
  },
  {
   "cell_type": "markdown",
   "metadata": {},
   "source": [
    "# Wald's One Sample Test"
   ]
  },
  {
   "cell_type": "code",
   "execution_count": 97,
   "metadata": {
    "collapsed": false
   },
   "outputs": [
    {
     "name": "stdout",
     "output_type": "stream",
     "text": [
      "NV confirmed\n",
      "Reject NULL HYPOTHESIS 60.84468046051707\n",
      "NM confirmed\n",
      "Reject NULL HYPOTHESIS 67.27408494148042\n",
      "NV deaths\n",
      "Reject NULL HYPOTHESIS 23.24033583933362\n",
      "NM deaths\n",
      "Reject NULL HYPOTHESIS 16.413216173510026\n"
     ]
    }
   ],
   "source": [
    "import numpy as np\n",
    "#Assuming poison distribution\n",
    "def WaldsTest(feb21Data, march21Data):\n",
    "    feb21_mean = np.mean(feb21Data)\n",
    "    march21_mean = np.mean(march21Data)\n",
    "    #print(feb21_mean)\n",
    "    #print(march21_mean)\n",
    "    #In case of poisson ditribution both mean and variance are equal to lamda.\n",
    "    se = np.sqrt(march21_mean/len(march21Data))\n",
    "    #Computing W of wald's test\n",
    "    #print(se)\n",
    "    W = np.abs((march21_mean - feb21_mean)/se)\n",
    "    #print(W)\n",
    "    return W\n",
    "\n",
    "\n",
    "\n",
    "\n",
    "#NULL HYPOTHESIS\n",
    "#Mean of feb 21 cases/deaths = Mean of last march21 cases/deaths.\n",
    "\n",
    "\n",
    "#call for NV confirmed cases\n",
    "W=WaldsTest(feb21_data['NV confirmed'],march21_data['NV confirmed'])   \n",
    "print(\"NV confirmed\")\n",
    "#alpha=0.05\n",
    "Z_alphaby2 = 1.96\n",
    "if(W <= 1.96):\n",
    "    print( \"Accept NULL HYPOTHESIS \"+ str(W))\n",
    "else:\n",
    "    print( \"Reject NULL HYPOTHESIS \"+ str(W))\n",
    "    \n",
    "    \n",
    "W=WaldsTest(feb21_data['NM confirmed'],march21_data['NM confirmed'])  \n",
    "print(\"NM confirmed\")\n",
    "Z_alphaby2 = 1.96\n",
    "if(W <= 1.96):\n",
    "    print( \"Accept NULL HYPOTHESIS \"+ str(W))\n",
    "else:\n",
    "    print( \"Reject NULL HYPOTHESIS \"+ str(W))\n",
    "    \n",
    "\n",
    "W=WaldsTest(feb21_data['NV deaths'],march21_data['NV deaths'])   \n",
    "print(\"NV deaths\")\n",
    "Z_alphaby2 = 1.96\n",
    "if(W <= 1.96):\n",
    "    print( \"Accept NULL HYPOTHESIS \"+ str(W))\n",
    "else:\n",
    "    print( \"Reject NULL HYPOTHESIS \"+ str(W))\n",
    "\n",
    "\n",
    "W=WaldsTest(feb21_data['NM deaths'],march21_data['NM deaths']) \n",
    "print(\"NM deaths\")\n",
    "Z_alphaby2 = 1.96\n",
    "if(W <= 1.96):\n",
    "    print( \"Accept NULL HYPOTHESIS \"+ str(W))\n",
    "else:\n",
    "    print( \"Reject NULL HYPOTHESIS \"+ str(W))\n",
    "\n"
   ]
  },
  {
   "cell_type": "markdown",
   "metadata": {},
   "source": [
    "# Hypothesis\n",
    "Null hypothesis (H0):\n",
    "Mean of Feb 21 confirmed cases or deaths = Mean of March 21 confirmed cases or deaths.\n",
    "\n",
    "Alternate hypothesis(H1):\n",
    "Mean of Feb 21 confirmed cases or deaths is not equal to mean of March 21 confirmed cases or deaths.\n",
    "\n",
    "Procedure :\n",
    "We have taken the guess value as March 21 cases/deaths and alpha = 0.05 as given in documentation and sample mean as Feb 21. The standard error of the estimator is calculated in above walds function.\n",
    "\n",
    "Result:\n",
    "W value for mean of Feb 21 NV confirmed cases =60.84468046051707 which is greater than 1.96 we are rejecting the NULL hypothesis. \n",
    "W value for mean of Feb 21 NM confirmed cases =67.27408494148042 which is greater than 1.96 we are rejecting the NULL hypothesis.\n",
    "W value for mean of Feb 21 NV deaths =23.24033583933362 which is greater than 1.96 we are rejecting the NULL hypothesis.\n",
    "W value for mean of Feb 21 NM deaths =16.413216173510026 which is greater than 1.96 we are rejecting the NULL hypothesis.\n",
    "\n",
    "Is Test Applicable ?\n",
    "The main Assumptions of Wald's test is that the sample data has to be normally dustributed. Since we are using a mean estimator which is Poisson MLE, using CLT we can say that the data is asymptomatically normal. \n",
    "\n",
    "Hence ,We can conclude the Wald's Test is applicable on given dataset."
   ]
  },
  {
   "cell_type": "markdown",
   "metadata": {},
   "source": [
    "# WALDS 2 SAMPLE TEST"
   ]
  },
  {
   "cell_type": "code",
   "execution_count": 98,
   "metadata": {
    "collapsed": false
   },
   "outputs": [
    {
     "name": "stdout",
     "output_type": "stream",
     "text": [
      "NV confirmed\n",
      "Reject NULL HYPOTHESIS 36.00135062635395\n",
      "NM confirmed\n",
      "Reject NULL HYPOTHESIS 38.17819402331588\n",
      "NM deaths\n",
      "Reject NULL HYPOTHESIS 12.026445802057546\n",
      "NV deaths\n",
      "Reject NULL HYPOTHESIS 8.88072270686856\n"
     ]
    }
   ],
   "source": [
    "#WALDS 2 SAMPLE TEST\n",
    "import numpy as np\n",
    "#Assuming poison distribution\n",
    "def WaldsTest(feb21Data, march21Data):\n",
    "    feb21_mean = np.mean(feb21Data)\n",
    "    march21_mean = np.mean(march21Data)\n",
    "    #print(feb21_mean)\n",
    "    #print(march21_mean)\n",
    "    #In case of poisson ditribution both meand and variance are equal to lamda.\n",
    "    se = np.sqrt((march21_mean/len(march21Data))+feb21_mean/len(feb21Data))\n",
    "    #Computing W of wald's test\n",
    "    #print(se)\n",
    "    W = np.abs((march21_mean - feb21_mean)/se)\n",
    "    #print(W)\n",
    "    return W\n",
    "\n",
    "\n",
    "\n",
    "\n",
    "#NULL HYPOTHESIS\n",
    "#Mean of feb 21 cases/deaths = Mean of last march21 cases/deaths.\n",
    "\n",
    "\n",
    "#call for NV confirmed cases\n",
    "W=WaldsTest(feb21_data['NV confirmed'],march21_data['NV confirmed'])   \n",
    "print(\"NV confirmed\")\n",
    "#alpha=0.05\n",
    "Z_alphaby2 = 1.96\n",
    "if(W <= 1.96):\n",
    "    print( \"Accept NULL HYPOTHESIS \"+ str(W))\n",
    "else:\n",
    "    print( \"Reject NULL HYPOTHESIS \"+ str(W))\n",
    "    \n",
    "\n",
    "\n",
    "W=WaldsTest(feb21_data['NM confirmed'],march21_data['NM confirmed'])  \n",
    "print(\"NM confirmed\")\n",
    "Z_alphaby2 = 1.96\n",
    "if(W <= 1.96):\n",
    "    print( \"Accept NULL HYPOTHESIS \"+ str(W))\n",
    "else:\n",
    "    print( \"Reject NULL HYPOTHESIS \"+ str(W))\n",
    "\n",
    "\n",
    "W=WaldsTest(feb21_data['NV deaths'],march21_data['NV deaths']) \n",
    "print(\"NM deaths\")\n",
    "Z_alphaby2 = 1.96\n",
    "if(W <= 1.96):\n",
    "    print( \"Accept NULL HYPOTHESIS \"+ str(W))\n",
    "else:\n",
    "    print( \"Reject NULL HYPOTHESIS \"+ str(W))\n",
    "\n",
    "\n",
    "\n",
    "W=WaldsTest(feb21_data['NM deaths'],march21_data['NM deaths'])   \n",
    "print(\"NV deaths\")\n",
    "Z_alphaby2 = 1.96\n",
    "if(W <= 1.96):\n",
    "    print( \"Accept NULL HYPOTHESIS \"+ str(W))\n",
    "else:\n",
    "    print( \"Reject NULL HYPOTHESIS \"+ str(W))\n"
   ]
  },
  {
   "cell_type": "markdown",
   "metadata": {},
   "source": [
    "# Hypothesis\n",
    "Null hypothesis (H0):\n",
    "Mean of Feb 21 confirmed cases or deaths = Mean of March 21 confirmed cases or deaths.\n",
    "\n",
    "Alternate hypothesis(H1):\n",
    "Mean of Feb 21 confirmed cases or deaths is not equal to mean of March 21 confirmed cases or deaths.\n",
    "\n",
    "Procedure :\n",
    "We have taken the alpha = 0.05 as given in documentation and calculated the numerator and denominator of w in the above walds_2_sample_testing function . The standard error of the estimator is combination of the standard error of both the months data which is February 21 and March 21.\n",
    "\n",
    "Result:\n",
    "W value for mean of Feb 21 NV confirmed cases =36.00135062635395 which is greater than 1.96 we are rejecting the NULL hypothesis.\n",
    "W value for mean of Feb 21 NM confirmed cases =38.17819402331588 which is greater than 1.96 we are rejecting the NULL hypothesis.\n",
    "W value for mean of Feb 21 NM deaths =12.026445802057546 which is greater than 1.96 we are rejecting the NULL hypothesis.\n",
    "W value for mean of Feb 21 NV deaths =8.88072270686856 which is greater than 1.96 we are rejecting the NULL hypothesis.\n",
    "\n",
    "Is Test Applicable ?\n",
    "The main Assumptions of Wald's test is that the sample data has to be normally dustributed. Since we are using a mean estimator, using CLT we can say that the data is asymptomatically normal. \n",
    "\n",
    "Hence ,We can conclude the Wald's Test is applicable on given dataset."
   ]
  },
  {
   "cell_type": "markdown",
   "metadata": {},
   "source": [
    "# Z test"
   ]
  },
  {
   "cell_type": "code",
   "execution_count": 99,
   "metadata": {
    "collapsed": false
   },
   "outputs": [
    {
     "name": "stdout",
     "output_type": "stream",
     "text": [
      "NV confirmed\n",
      "Accept NULL HYPOTHESIS 0.011833444930198571\n",
      "NM confirmed\n",
      "Accept NULL HYPOTHESIS 0.01463507248320475\n",
      "NV deaths\n",
      "Accept NULL HYPOTHESIS 0.04960885875402222\n",
      "NM deaths\n",
      "Accept NULL HYPOTHESIS 0.036355495694683625\n"
     ]
    }
   ],
   "source": [
    "\n",
    "import numpy as np\n",
    "#Z test\n",
    "#Assuming poison distribution\n",
    "def ZTest(feb21Data, march21Data,true_std_deviation):\n",
    "    \n",
    "    feb21_mean = np.mean(feb21Data)\n",
    "    march21_mean = np.mean(march21Data)\n",
    "    #print(feb21_mean)\n",
    "    #print(march21_mean)\n",
    "    \n",
    "    #true standard devation\n",
    "    denominator=true_std_deviation/np.sqrt(len(march21Data))\n",
    "    #Computing Z of Ztest\n",
    "    Z = np.abs((march21_mean - feb21_mean)/denominator)\n",
    "    #print(Z)\n",
    "    return Z\n",
    "\n",
    "\n",
    "#call for NV confirmed cases\n",
    "true_std_deviation=np.sqrt(np.var(df['NV confirmed']))\n",
    "Z=ZTest(feb21_data['NV confirmed'],march21_data['NV confirmed'],true_std_deviation)   \n",
    "print(\"NV confirmed\")\n",
    "#alpha=0.05\n",
    "Z_alphaby2 = 1.96\n",
    "if(Z <= 1.96):\n",
    "    print( \"Accept NULL HYPOTHESIS \"+ str(Z))\n",
    "else:\n",
    "    print( \"Reject NULL HYPOTHESIS \"+ str(Z))\n",
    "    \n",
    "    \n",
    "true_std_deviation=np.sqrt(np.var(df['NM confirmed']))\n",
    "Z=ZTest(feb21_data['NM confirmed'],march21_data['NM confirmed'],true_std_deviation)  \n",
    "print(\"NM confirmed\")\n",
    "Z_alphaby2 = 1.96\n",
    "if(Z <= 1.96):\n",
    "    print( \"Accept NULL HYPOTHESIS \"+ str(Z))\n",
    "else:\n",
    "    print( \"Reject NULL HYPOTHESIS \"+ str(Z))\n",
    "\n",
    "\n",
    "true_std_deviation=np.sqrt(np.var(df['NV deaths']))\n",
    "Z=ZTest(feb21_data['NV deaths'],march21_data['NV deaths'],true_std_deviation)   \n",
    "print(\"NV deaths\")\n",
    "Z_alphaby2 = 1.96\n",
    "if(Z <= 1.96):\n",
    "    print( \"Accept NULL HYPOTHESIS \"+ str(Z))\n",
    "else:\n",
    "    print( \"Reject NULL HYPOTHESIS \"+ str(Z))\n",
    "\n",
    "\n",
    "true_std_deviation=np.sqrt(np.var(df['NM deaths']))\n",
    "Z=ZTest(feb21_data['NM deaths'],march21_data['NM deaths'],true_std_deviation) \n",
    "print(\"NM deaths\")\n",
    "Z_alphaby2 = 1.96\n",
    "if(Z <= 1.96):\n",
    "    print( \"Accept NULL HYPOTHESIS \"+ str(Z))\n",
    "else:\n",
    "    print( \"Reject NULL HYPOTHESIS \"+ str(Z))\n",
    "\n",
    "\n"
   ]
  },
  {
   "cell_type": "markdown",
   "metadata": {},
   "source": [
    "# Hypothesis\n",
    "Null hypothesis (H0):\n",
    "Mean of Feb 21 confirmed cases or deaths = Mean of March 21 confirmed cases or deaths.\n",
    "\n",
    "Alternate hypothesis(H1):\n",
    "Mean of Feb 21 confirmed cases or deaths is not equal to mean of March 21 confirmed cases or deaths.\n",
    "\n",
    "Procedure :\n",
    "We have taken the guess value as March 21 cases/deaths and alpha = 0.05 as given in documentation and sample mean as Feb 21. We used the corrected sample standard deviation of the entire COVID19 dataset we had for each state as the true sigma value.\n",
    "\n",
    "\n",
    "Result:\n",
    "Z value for mean of Feb 21 NV confirmed cases = 0.011833444930198568 which is less than 1.96 we are accepting the NULL hypothesis.\n",
    "Z value for mean of Feb 21 NM confirmed cases = 0.01463507248320475 which is less than 1.96 we are accepting the NULL hypothesis.\n",
    "Z value for mean of Feb 21 NM deaths = 0.036355495694683625 which is less than 1.96 we are accepting the NULL hypothesis.\n",
    "Z value for mean of Feb 21 NV deaths = 0.049608858754022205 which is less than 1.96 we are accepting the NULL hypothesis.\n",
    "\n",
    "Is Test Applicable ?\n",
    "The main Assumptions of Z-test are that true standard deviation is known to us, sample size has to be large or the sample data has to be normally dustributed. The true standard deviation is known to us. The data here has 400+ rows so it is large. Since we are using a mean estimator, using CLT we can say that the data is asymptomatically normal. \n",
    "\n",
    "Hence ,We can conclude the Z-Test is applicable on given dataset."
   ]
  },
  {
   "cell_type": "markdown",
   "metadata": {},
   "source": [
    "# T test"
   ]
  },
  {
   "cell_type": "code",
   "execution_count": 100,
   "metadata": {
    "collapsed": false
   },
   "outputs": [
    {
     "name": "stdout",
     "output_type": "stream",
     "text": [
      "NV confirmed\n",
      "Reject NULL HYPOTHESIS 3.466232317733068\n",
      "NM confirmed\n",
      "Reject NULL HYPOTHESIS 18.584110592851285\n",
      "NV deaths\n",
      "Reject NULL HYPOTHESIS 7.377885488184716\n",
      "NM deaths\n",
      "Reject NULL HYPOTHESIS 8.436562085344791\n"
     ]
    }
   ],
   "source": [
    "#Calculate Sample Variance\n",
    "def cal_sample_variance(mean,data):\n",
    "    n=len(data)\n",
    "    return  np.sum(np.square(data - mean))/(n-1)\n",
    "    \n",
    "\n",
    "\n",
    "#T test \n",
    "def TTest(feb21Data, march21Data):\n",
    "    \n",
    "    feb21_mean = np.mean(feb21Data)\n",
    "    march21_mean = np.mean(march21Data)\n",
    "    #print(feb21_mean)\n",
    "    #print(march21_mean)\n",
    "    sample_variance=cal_sample_variance(march21_mean,march21Data)\n",
    "    denominator = np.sqrt(sample_variance)/np.sqrt(len(march21Data))\n",
    "    #computing the T statistic \n",
    "    T = np.abs((march21_mean - feb21_mean)/denominator)\n",
    "    return T\n",
    "    \n",
    "    \n",
    "#call for NV confirmed cases\n",
    "\n",
    "T=TTest(feb21_data['NV confirmed'],march21_data['NV confirmed'])   \n",
    "print(\"NV confirmed\")\n",
    "T_alpha = 1.697261\n",
    "if(T <= 1.697261):\n",
    "    print( \"Accept NULL HYPOTHESIS \"+ str(T))\n",
    "else:\n",
    "    print( \"Reject NULL HYPOTHESIS \"+ str(T))\n",
    "    \n",
    "\n",
    "\n",
    "\n",
    "T=TTest(feb21_data['NM confirmed'],march21_data['NM confirmed'])  \n",
    "print(\"NM confirmed\")\n",
    "T_alpha = 1.697261\n",
    "if(T <= 1.697261):\n",
    "    print( \"Accept NULL HYPOTHESIS \"+ str(T))\n",
    "else:\n",
    "    print( \"Reject NULL HYPOTHESIS \"+ str(T))\n",
    "\n",
    "\n",
    "\n",
    "T=TTest(feb21_data['NV deaths'],march21_data['NV deaths'])   \n",
    "print(\"NV deaths\")\n",
    "T_alpha = 1.697261\n",
    "if(T <= 1.697261):\n",
    "    print( \"Accept NULL HYPOTHESIS \"+ str(T))\n",
    "else:\n",
    "    print( \"Reject NULL HYPOTHESIS \"+ str(T))\n",
    "\n",
    "\n",
    "\n",
    "T=TTest(feb21_data['NM deaths'],march21_data['NM deaths']) \n",
    "print(\"NM deaths\")\n",
    "T_alpha = 1.697261\n",
    "if(T <= 1.697261):\n",
    "    print( \"Accept NULL HYPOTHESIS \"+ str(T))\n",
    "else:\n",
    "    print( \"Reject NULL HYPOTHESIS \"+ str(T))\n",
    "\n",
    "\n",
    "\n"
   ]
  },
  {
   "cell_type": "markdown",
   "metadata": {},
   "source": [
    "# Hypothesis\n",
    "Null hypothesis (H0):\n",
    "Mean of Feb 21 confirmed cases or deaths = Mean of March 21 confirmed cases or deaths.\n",
    "\n",
    "Alternate hypothesis(H1):\n",
    "Mean of Feb 21 confirmed cases or deaths is not equal to mean of March 21 confirmed cases or deaths.\n",
    "\n",
    "Procedure :\n",
    "We have taken the alpha = 0.05 as given in documentation and degree of freedom as 30 to calculate the value of T.\n",
    "\n",
    "Result:\n",
    "T value for mean of Feb 21 NV confirmed cases = 3.466232317733068 which is greater than 1.697261 we are rejecting the NULL hypothesis.\n",
    "T value for mean of Feb 21 NM confirmed cases = 18.584110592851285 which is greater than 1.697261 we are rejecting the NULL hypothesis.\n",
    "T value for mean of Feb 21 NM deaths = 8.436562085344791 which is greater than 1.697261 we are rejecting the NULL hypothesis.\n",
    "T value for mean of Feb 21 NV deaths = 7.377885488184716 which is greater than 1.697261 we are rejecting the NULL hypothesis.\n",
    "\n",
    "Is Test Applicable ?\n",
    "The T-test is not valid since the data points are expected to follow a Normal distribution but the given distribution to us is Poisson."
   ]
  },
  {
   "cell_type": "markdown",
   "metadata": {},
   "source": [
    "# Unpaired T test"
   ]
  },
  {
   "cell_type": "code",
   "execution_count": 101,
   "metadata": {
    "collapsed": false
   },
   "outputs": [
    {
     "name": "stdout",
     "output_type": "stream",
     "text": [
      "NV confirmed\n",
      "Accept NULL HYPOTHESIS 1.4149094874966222\n",
      "NM confirmed\n",
      "Reject NULL HYPOTHESIS 5.141872121508537\n",
      "NV deaths\n",
      "Accept NULL HYPOTHESIS 1.9104971125134882\n",
      "NM deaths\n",
      "Reject NULL HYPOTHESIS 4.223523081107441\n"
     ]
    }
   ],
   "source": [
    "#Calculate Sample Variance\n",
    "def cal_sample_variance(mean,data):\n",
    "    n=len(data)\n",
    "    return  np.sum(np.square(data - mean))/(n-1)\n",
    "    \n",
    "\n",
    "\n",
    "#Unpaired T test \n",
    "def TTest(feb21Data, march21Data):\n",
    "    \n",
    "    feb21_mean = np.mean(feb21Data)\n",
    "    march21_mean = np.mean(march21Data)\n",
    "    #print(feb21_mean)\n",
    "    #print(march21_mean)\n",
    "    \n",
    "    sample_variance_feb21=cal_sample_variance(feb21_mean,feb21Data)\n",
    "    sample_variance_march21=cal_sample_variance(march21_mean,march21Data)\n",
    "    \n",
    "    denominator =(np.sqrt(sample_variance_feb21)/np.sqrt(len(feb21Data))) +(np.sqrt(sample_variance_march21)/np.sqrt(len(march21Data)))\n",
    "    #computing the T statistic \n",
    "    T = np.abs((march21_mean - feb21_mean)/denominator)\n",
    "    return T\n",
    "    \n",
    "    \n",
    "#call for NV confirmed cases\n",
    "\n",
    "T=TTest(feb21_data['NV confirmed'],march21_data['NV confirmed'])   \n",
    "print(\"NV confirmed\")\n",
    "T_alpha = 2.000995\n",
    "if(T <= 2.000995):\n",
    "    print( \"Accept NULL HYPOTHESIS \"+ str(T))\n",
    "else:\n",
    "    print( \"Reject NULL HYPOTHESIS \"+ str(T))\n",
    "\n",
    "\n",
    "T=TTest(feb21_data['NM confirmed'],march21_data['NM confirmed'])  \n",
    "print(\"NM confirmed\")\n",
    "T_alpha = 2.000995\n",
    "if(T <= 2.000995):\n",
    "    print( \"Accept NULL HYPOTHESIS \"+ str(T))\n",
    "else:\n",
    "    print( \"Reject NULL HYPOTHESIS \"+ str(T))\n",
    "    \n",
    "    \n",
    "    \n",
    "T=TTest(feb21_data['NV deaths'],march21_data['NV deaths'])   \n",
    "print(\"NV deaths\")\n",
    "T_alpha = 2.000995\n",
    "if(T <= 2.000995):\n",
    "    print( \"Accept NULL HYPOTHESIS \"+ str(T))\n",
    "else:\n",
    "    print( \"Reject NULL HYPOTHESIS \"+ str(T))\n",
    "\n",
    "\n",
    "\n",
    "T=TTest(feb21_data['NM deaths'],march21_data['NM deaths']) \n",
    "print(\"NM deaths\")\n",
    "T_alpha = 2.000995\n",
    "if(T <= 2.000995):\n",
    "    print( \"Accept NULL HYPOTHESIS \"+ str(T))\n",
    "else:\n",
    "    print( \"Reject NULL HYPOTHESIS \"+ str(T))\n",
    "\n",
    "\n",
    "\n",
    "\n",
    "\n"
   ]
  },
  {
   "cell_type": "markdown",
   "metadata": {},
   "source": [
    "# Hypothesis\n",
    "Null hypothesis (H0):\n",
    "Mean of Feb 21 confirmed cases or deaths = Mean of March 21 confirmed cases or deaths.\n",
    "\n",
    "Alternate hypothesis(H1):\n",
    "Mean of Feb 21 confirmed cases or deaths is not equal to mean of March 21 confirmed cases or deaths.\n",
    "\n",
    "Procedure :\n",
    "We have taken the alpha = 0.05 as given in documentation and degree of freedom as 30 to calculate the value of T.\n",
    "\n",
    "Result:\n",
    "T value for mean of Feb 21 NV confirmed cases = 1.4149094874966222 which is less than 2.000995 we are accepting the NULL hypothesis.\n",
    "T value for mean of Feb 21 NM confirmed cases = 5.141872121508538 which is greater than 2.000995 we are rejecting the NULL hypothesis.\n",
    "T value for mean of Feb 21 NM deaths = 4.223523081107441 which is greater than 2.000995 we are rejecting the NULL hypothesis.\n",
    "T value for mean of Feb 21 NV deaths = 1.9104971125134882 which is less than 2.000995 we are accepting the NULL hypothesis.\n",
    "\n",
    "Is Test Applicable ?\n",
    "The T-test however is not valid since the data points are expected to follow a Normal distribution but the given distribution to us is Poisson."
   ]
  },
  {
   "cell_type": "markdown",
   "metadata": {},
   "source": [
    "# Task 2C"
   ]
  },
  {
   "cell_type": "markdown",
   "metadata": {},
   "source": [
    "# KS Test"
   ]
  },
  {
   "cell_type": "code",
   "execution_count": 102,
   "metadata": {
    "collapsed": false
   },
   "outputs": [
    {
     "name": "stdout",
     "output_type": "stream",
     "text": [
      "Checking equality of distributions for confirmed cases in 2 states using Poisson distribution\n",
      "mme_lambda:  916.5\n",
      "\n",
      "Maximum Difference:  0.46659659496804107\n",
      "Null hypothesis is rejected as Oct-Dec 2020 data for the second state does not have the distribution with the obtained MME parameters for  Confirmed cases\n",
      "\n",
      "Checking equality of distributions for confirmed cases in 2 states using Geometric distribution\n",
      "mme_p:  0.0010911074740861974\n",
      "\n",
      "Maximum Difference:  0.23595778230524775\n",
      "Null hypothesis is rejected as Oct-Dec 2020 data for the second state does not have the distribution with the obtained MME parameters for  Confirmed cases\n",
      "\n",
      "Checking equality of distributions for confirmed cases in 2 states using Binomial distribution\n",
      "mme_p:  -354.76375704673575\n",
      "mme_n:  -2.583409330280777\n",
      "\n",
      "Maximum Difference:  1.0\n",
      "Null hypothesis is rejected as Oct-Dec 2020 data for the second state does not have the distribution with the obtained MME parameters for  Confirmed cases\n",
      "\n",
      "Checking equality of distributions for deaths in 2 states using Poisson distribution\n",
      "mme_lambda:  17.391304347826086\n",
      "\n",
      "Maximum Difference:  0.4700505411726082\n",
      "Null hypothesis is rejected as Oct-Dec 2020 data for the second state does not have the distribution with the obtained MME parameters for  Deaths\n",
      "\n",
      "Checking equality of distributions for deaths in 2 states using Geometric distribution\n",
      "mme_p:  0.0575\n",
      "\n",
      "Maximum Difference:  0.11956521739130432\n",
      "Null hypothesis is rejected as Oct-Dec 2020 data for the second state does not have the distribution with the obtained MME parameters for  Deaths\n",
      "\n",
      "Checking equality of distributions for deaths in 2 states using Binomial distribution\n",
      "mme_p:  -10.008695652173913\n",
      "mme_n:  -1.7376194613379672\n",
      "\n",
      "Maximum Difference:  1.0\n",
      "Null hypothesis is rejected as Oct-Dec 2020 data for the second state does not have the distribution with the obtained MME parameters for  Deaths\n"
     ]
    }
   ],
   "source": [
    "#!/usr/bin/env python3\n",
    "# -- coding: utf-8 --\n",
    "\n",
    "import pandas as pd\n",
    "import numpy as np\n",
    "from scipy.stats import poisson\n",
    "from scipy.stats import binom\n",
    "from scipy.stats import geom\n",
    "\n",
    "def OneSampleKS_Poisson(data_cases,datatype):\n",
    "    row,col = data_cases.shape\n",
    "\n",
    "    nm_confirmed_data = []\n",
    "    nv_confirmed_data = []\n",
    "    \n",
    "    for index, row in data_cases.iterrows():\n",
    "        # Oct,Nov,Dec data for both states\n",
    "        if row['Date'][5] =='1':\n",
    "            if datatype == 'Confirmed cases':\n",
    "                nm_confirmed_data.append(row['NM confirmed'])\n",
    "                nv_confirmed_data.append(row['NV confirmed'])\n",
    "            \n",
    "            else:\n",
    "                nm_confirmed_data.append(row['NM deaths'])\n",
    "                nv_confirmed_data.append(row['NV deaths'])\n",
    "        \n",
    "    # Lambda mme using first state data\n",
    "    mme_lambda = float(np.sum(nm_confirmed_data)) / float(len(nm_confirmed_data))\n",
    "    \n",
    "    # Find ecdf of second data\n",
    "    nv_confirmed_data.sort()\n",
    "    DL_second = len(nv_confirmed_data)\n",
    "    sdata_ecdf = []\n",
    "    step_size = 1 / DL_second\n",
    "    step = 0\n",
    "    for j in range(DL_second - 1):\n",
    "        step += step_size\n",
    "        sdata_ecdf.append(step)\n",
    "    \n",
    "    sdata_ecdf.append(1) \n",
    "\n",
    "    maxd = 0\n",
    "    print(\"mme_lambda: \",mme_lambda)\n",
    "    # Iterating over all the data points to calculate difference\n",
    "    for k in range(DL_second):\n",
    "        \n",
    "        cdfap = poisson.cdf(nv_confirmed_data[k], mme_lambda)\n",
    "\n",
    "        if k == 0:\n",
    "            l_ecdf = 0\n",
    "        else:\n",
    "            l_ecdf = sdata_ecdf[k-1]\n",
    "\n",
    "        r_ecdf = sdata_ecdf[k]\n",
    "        \n",
    "        diff_l_ecdf = abs(cdfap - l_ecdf)\n",
    "        diff_r_ecdf = abs(cdfap - r_ecdf)\n",
    "        \n",
    "        difference = max(diff_l_ecdf,diff_r_ecdf)\n",
    "        if maxd < difference:\n",
    "            maxd = difference\n",
    "\n",
    "    print(\"\\nMaximum Difference: \", maxd)\n",
    "    c = 0.05\n",
    "    # Comparing maximum difference with critical value\n",
    "    if(maxd > c):\n",
    "        print(\"Null hypothesis is rejected as Oct-Dec 2020 data for the second state does not have the distribution with the obtained MME parameters for \", datatype)\n",
    "    else:\n",
    "        print(\"Null hypothesis is accepted as Oct-Dec 2020 data for the second state have the distribution with the obtained MME parameters for \", datatype)\n",
    "    \n",
    "    \n",
    "def OneSampleKS_Geometric(data_cases,datatype):\n",
    "    row,col = data_cases.shape\n",
    "\n",
    "    nm_confirmed_data = []\n",
    "    nv_confirmed_data = []\n",
    "    \n",
    "    for index, row in data_cases.iterrows():\n",
    "        # Oct,Nov,Dec data for both states\n",
    "        if row['Date'][5] =='1':\n",
    "            if datatype == 'Confirmed cases':\n",
    "                nm_confirmed_data.append(row['NM confirmed'])\n",
    "                nv_confirmed_data.append(row['NV confirmed'])\n",
    "            \n",
    "            else:\n",
    "                nm_confirmed_data.append(row['NM deaths'])\n",
    "                nv_confirmed_data.append(row['NV deaths'])\n",
    "    \n",
    "    # geometric P mme using first state data\n",
    "    mme_p=  float(len(nm_confirmed_data)) / float(np.sum(nm_confirmed_data))\n",
    "    \n",
    "    # Find ecdf of second data\n",
    "    nv_confirmed_data.sort()\n",
    "    DL_second = len(nv_confirmed_data)\n",
    "    sdata_ecdf = []\n",
    "    step_size = 1 / DL_second\n",
    "    step = 0\n",
    "    for j in range(DL_second - 1):\n",
    "        step += step_size\n",
    "        sdata_ecdf.append(step)\n",
    "    \n",
    "    sdata_ecdf.append(1) \n",
    "\n",
    "    maxd = 0\n",
    "    print(\"mme_p: \",mme_p)\n",
    "    # Iterating over all the data points to calculate difference\n",
    "    for k in range(DL_second):\n",
    "        \n",
    "        cdfap = geom.cdf(nv_confirmed_data[k], mme_p)\n",
    "\n",
    "        if k == 0:\n",
    "            l_ecdf = 0\n",
    "        else:\n",
    "            l_ecdf = sdata_ecdf[k-1]\n",
    "\n",
    "        r_ecdf = sdata_ecdf[k]\n",
    "        \n",
    "        diff_l_ecdf = abs(cdfap - l_ecdf)\n",
    "        diff_r_ecdf = abs(cdfap - r_ecdf)\n",
    "      \n",
    "        difference = max(diff_l_ecdf,diff_r_ecdf)\n",
    "        if maxd < difference:\n",
    "            maxd = difference\n",
    "\n",
    "    print(\"\\nMaximum Difference: \", maxd)\n",
    "    c = 0.05\n",
    "    # Comparing maximum difference with critical value\n",
    "    if(maxd > c):\n",
    "        print(\"Null hypothesis is rejected as Oct-Dec 2020 data for the second state does not have the distribution with the obtained MME parameters for \", datatype)\n",
    "    else:\n",
    "        print(\"Null hypothesis is accepted as Oct-Dec 2020 data for the second state have the distribution with the obtained MME parameters for \", datatype)\n",
    "        \n",
    "        \n",
    "def OneSampleKS_Binomial(data_cases,datatype):\n",
    "    row,col = data_cases.shape\n",
    "\n",
    "    nm_confirmed_data = []\n",
    "    nv_confirmed_data = []\n",
    "    \n",
    "    for index, row in data_cases.iterrows():\n",
    "        # Oct,Nov,Dec data for both states\n",
    "        if row['Date'][5] =='1':\n",
    "            if datatype == 'Confirmed cases':\n",
    "                nm_confirmed_data.append(row['NM confirmed'])\n",
    "                nv_confirmed_data.append(row['NV confirmed'])\n",
    "            \n",
    "            else:\n",
    "                nm_confirmed_data.append(row['NM deaths'])\n",
    "                nv_confirmed_data.append(row['NV deaths'])\n",
    "    \n",
    "    \n",
    "    # Binomial mme_pand mme_n using first state data\n",
    "    sample_variance = np.var(nm_confirmed_data)\n",
    "    sample_mean = float(np.sum(nm_confirmed_data)) / float(len(nm_confirmed_data))\n",
    "    mme_n = pow(sample_mean,2) / (sample_mean - sample_variance)\n",
    "    mme_p=  1 - (sample_variance/sample_mean)\n",
    "    \n",
    "    # Find ecdf of second data\n",
    "    nv_confirmed_data.sort()\n",
    "    DL_second = len(nv_confirmed_data)\n",
    "    sdata_ecdf = []\n",
    "    step_size = 1 / DL_second\n",
    "    step = 0\n",
    "    for j in range(DL_second - 1):\n",
    "        step += step_size\n",
    "        sdata_ecdf.append(step)\n",
    "    \n",
    "    sdata_ecdf.append(1) \n",
    "\n",
    "    maxd = 0\n",
    "    print(\"mme_p: \",mme_p)\n",
    "    print(\"mme_n: \",mme_n)\n",
    "    # Iterating over all the data points to calculate difference\n",
    "    for k in range(DL_second):\n",
    "        \n",
    "        cdfap = binom.cdf(nv_confirmed_data[k], mme_n, mme_p)\n",
    "\n",
    "        if k == 0:\n",
    "            l_ecdf = 0\n",
    "        else:\n",
    "            l_ecdf = sdata_ecdf[k-1]\n",
    "\n",
    "        r_ecdf = sdata_ecdf[k]\n",
    "        \n",
    "        diff_l_ecdf = abs(cdfap - l_ecdf)\n",
    "        diff_r_ecdf = abs(cdfap - r_ecdf)\n",
    "      \n",
    "        difference = max(diff_l_ecdf,diff_r_ecdf)\n",
    "        if maxd < difference:\n",
    "            maxd = difference\n",
    "\n",
    "    print(\"\\nMaximum Difference: \", maxd)\n",
    "    c = 0.05\n",
    "    # Comparing maximum difference with critical value\n",
    "    if(maxd > c):\n",
    "        print(\"Null hypothesis is rejected as Oct-Dec 2020 data for the second state does not have the distribution with the obtained MME parameters for \", datatype)\n",
    "    else:\n",
    "        print(\"Null hypothesis is accepted as Oct-Dec 2020 data for the second state has the distribution with the obtained MME parameters for \", datatype)\n",
    "    \n",
    "\n",
    "\n",
    "\n",
    "var1 = ['Date','NM confirmed','NV confirmed']   \n",
    "#data_cases = pd.read_csv('cleaned_data.csv',usecols = var1)     \n",
    "data_cases = dataFinal\n",
    "datatype = 'Confirmed cases'\n",
    "\n",
    "print(\"Checking equality of distributions for confirmed cases in 2 states using Poisson distribution\")\n",
    "OneSampleKS_Poisson(data_cases,datatype)\n",
    "print(\"\")\n",
    "print(\"Checking equality of distributions for confirmed cases in 2 states using Geometric distribution\")\n",
    "OneSampleKS_Geometric(data_cases,datatype)\n",
    "print(\"\")\n",
    "print(\"Checking equality of distributions for confirmed cases in 2 states using Binomial distribution\")\n",
    "OneSampleKS_Binomial(data_cases,datatype)\n",
    "\n",
    "\n",
    "\n",
    "var2 = ['Date','NM deaths','NV deaths']   \n",
    "data_deaths = pd.read_csv('cleaned_data.csv',usecols = var2)     \n",
    "datatype = 'Deaths'\n",
    "print(\"\")\n",
    "print(\"Checking equality of distributions for deaths in 2 states using Poisson distribution\")\n",
    "OneSampleKS_Poisson(data_deaths,datatype)\n",
    "print(\"\")\n",
    "print(\"Checking equality of distributions for deaths in 2 states using Geometric distribution\")\n",
    "OneSampleKS_Geometric(data_deaths,datatype)\n",
    "print(\"\")\n",
    "print(\"Checking equality of distributions for deaths in 2 states using Binomial distribution\")\n",
    "OneSampleKS_Binomial(data_deaths,datatype)"
   ]
  },
  {
   "cell_type": "markdown",
   "metadata": {},
   "source": [
    "# Permutation Test"
   ]
  },
  {
   "cell_type": "code",
   "execution_count": 103,
   "metadata": {
    "collapsed": false,
    "scrolled": true
   },
   "outputs": [
    {
     "name": "stdout",
     "output_type": "stream",
     "text": [
      "Permutation test for daily confirmed data for New Mexico and Nevada\n",
      "observed_T=  110.9666666666667\n",
      "alpha =  0.05\n",
      "For n = 1000 random permutations, p_value:  0.362\n",
      "Therefore, NULL hypothesis for  1000 permutations can be rejected as p-value is less than alpha\n",
      "\n",
      "\n",
      "Permutation test for daily deaths data for Georgia and Hawai\n",
      "observed_T=  1.3152173913043477\n",
      "alpha =  0.05\n",
      "For n = 1000 random permutations, p_value:  0.577\n",
      "Therefore, NULL hypothesis for  1000 permutations can be rejected as p-value is less than alpha\n"
     ]
    }
   ],
   "source": [
    "#!/usr/bin/env python3\n",
    "# -*- coding: utf-8 -*-\n",
    "\n",
    "import pandas as pd\n",
    "import numpy as np\n",
    "import random\n",
    "\n",
    "\n",
    "def funcgetpval(confirmed_data, len_confirmed_data, observed_T, num_permutation):\n",
    "\n",
    "    cnt = 0\n",
    "    \n",
    "    for tr in range(0, num_permutation):\n",
    "        temp_data = np.array(confirmed_data)\n",
    "        random.shuffle((temp_data))\n",
    "        \n",
    "        data1 = temp_data[0:len_confirmed_data]\n",
    "        data2 = temp_data[len_confirmed_data:]\n",
    "        \n",
    "        mean_data1 = np.mean(data1)\n",
    "        mean_data2 = np.mean(data2)\n",
    "        \n",
    "        diff_mean = abs(mean_data1 - mean_data2)\n",
    "        \n",
    "        if diff_mean > observed_T:\n",
    "            cnt+=1\n",
    "    \n",
    "    p_val = cnt/num_permutation\n",
    "    return p_val\n",
    " \n",
    "\n",
    "var1 = ['Date','NM confirmed','NV confirmed']   \n",
    "#c_data = pd.read_csv('cleaned_data.csv',usecols = var1)\n",
    "c_data = dataFinal\n",
    "\n",
    "row,col = c_data.shape\n",
    "\n",
    "nm_confirmed_data = []\n",
    "nv_confirmed_data = []\n",
    "\n",
    "for index, row in c_data.iterrows():\n",
    "    # Fetching OCt, Nov, Dec data\n",
    "    if row['Date'][5] =='1':\n",
    "        nm_confirmed_data.append(row['NM confirmed'])\n",
    "        nv_confirmed_data.append(row['NV confirmed'])\n",
    "   \n",
    "\n",
    "len_nm_confirmed_data = len(nm_confirmed_data)\n",
    "len_nv_confirmed_data = len(nv_confirmed_data)\n",
    "\n",
    "mean_of_nm_confirmed_data = np.mean(nm_confirmed_data)\n",
    "\n",
    "mean_of_nv_confirmed_data = np.mean(nv_confirmed_data)\n",
    "\n",
    "observed_T = abs(mean_of_nm_confirmed_data - mean_of_nv_confirmed_data)\n",
    "\n",
    "print(\"Permutation test for daily confirmed data for New Mexico and Nevada\")\n",
    "print(\"observed_T= \",observed_T)\n",
    "print(\"alpha = \",0.05)\n",
    "\n",
    "confirmed_data = np.concatenate((nm_confirmed_data, nv_confirmed_data))\n",
    "\n",
    "p_val = funcgetpval(confirmed_data,len_nm_confirmed_data,observed_T,1000)\n",
    "print(\"For n = 1000 random permutations, p_value: \", p_val)\n",
    "print(\"Therefore, NULL hypothesis for \",1000, \"permutations can be rejected as p-value is less than alpha\")\n",
    "\n",
    "print(\"\")\n",
    "print(\"\")\n",
    "\n",
    "print(\"Permutation test for daily deaths data for Georgia and Hawai\")\n",
    "var2 = ['Date','NM deaths','NV deaths']\n",
    "data_deaths = pd.read_csv('cleaned_data.csv',usecols = var2)\n",
    "\n",
    "row,col = data_deaths.shape\n",
    "\n",
    "nv_deaths_data = []\n",
    "nm_deaths_data = []\n",
    "\n",
    "for index, row in data_deaths.iterrows():\n",
    "    # Fetching OCt, Nov, Dec data\n",
    "    if row['Date'][5] =='1':\n",
    "        nm_deaths_data.append(row['NM deaths'])\n",
    "        nv_deaths_data.append(row['NV deaths'])\n",
    "\n",
    "\n",
    "len_nm_deaths_data = len(nm_deaths_data)\n",
    "len_nv_deaths_data = len(nv_deaths_data)\n",
    "\n",
    "nm_deaths_mean = np.mean(nm_deaths_data)\n",
    "nv_deaths_mean = np.mean(nv_deaths_data)\n",
    "\n",
    "observed_T = abs(nm_deaths_mean - nv_deaths_mean)\n",
    "\n",
    "print(\"observed_T= \",observed_T)\n",
    "print(\"alpha = \",0.05)\n",
    "\n",
    "confirmed_data = np.concatenate((nm_deaths_data, nv_deaths_data))\n",
    "\n",
    "p_val = funcgetpval(confirmed_data,len_nv_deaths_data,observed_T,1000)\n",
    "print(\"For n = 1000 random permutations, p_value: \", p_val)\n",
    "print(\"Therefore, NULL hypothesis for \",1000, \"permutations can be rejected as p-value is less than alpha\")"
   ]
  },
  {
   "cell_type": "markdown",
   "metadata": {},
   "source": [
    "# Task 2D"
   ]
  },
  {
   "cell_type": "code",
   "execution_count": 5,
   "metadata": {
    "collapsed": false
   },
   "outputs": [
    {
     "name": "stdout",
     "output_type": "stream",
     "text": [
      "Lambda after first 4 weeks is  7.392857142857143\n",
      "Lambda after first 5 weeks is  7.485714285714286\n",
      "Lambda after first 6 weeks is  8.404761904761905\n",
      "Lambda after first 7 weeks is  8.83673469387755\n",
      "Lambda after first 8 weeks is  10.053571428571429\n"
     ]
    },
    {
     "data": {
      "image/png": "[encoded data removed]",
      "text/plain": [
       "<Figure size 720x576 with 1 Axes>"
      ]
     },
     "metadata": {},
     "output_type": "display_data"
    }
   ],
   "source": [
    "import numpy as np\n",
    "import pandas as pd\n",
    "import matplotlib.pyplot as plt\n",
    "from scipy import stats\n",
    "import datetime\n",
    "import math\n",
    "from scipy.stats import gamma\n",
    "\n",
    "def plot_gamma(alpha, beta, label):\n",
    "    x = np.linspace(gamma.ppf(0.01, alpha, scale=1/beta),\n",
    "                      gamma.ppf(0.99, alpha, scale=1/beta), 1000)\n",
    "  \n",
    "    plt.title(\"Posterior gamma distributions with their MAP(mean) values\")\n",
    "    label = label + \"MAP: \" + str(round((alpha/beta),3))\n",
    "    plt.plot(x, gamma.pdf(x, alpha, scale=1/beta), label=label)\n",
    "    plt.xlabel(\"Number of cases\")\n",
    "    plt.ylabel(\"PDF of Gamma distribution\")\n",
    "    plt.legend()\n",
    "\n",
    "df = pd.read_csv(\"Cleaned_data.csv\")\n",
    "#df = dataFinal\n",
    "\n",
    "df['Date'] = pd.to_datetime(df['Date'])\n",
    "df = df[df['Date'] >= datetime.datetime(2020,6,1)]\n",
    "#df = df[df['Date'] >= '06-01-2020']\n",
    "\n",
    "df['data'] = df['NM deaths'] + df['NV deaths']\n",
    "data = list(df['data'])\n",
    "\n",
    "\n",
    "# Plotting the data for first 4 weeks. This data is used as a prior distribution\n",
    "# Every week data is then added to the original data to get posterior\n",
    "\n",
    "plt.figure(figsize=(10,8))\n",
    "plot_gamma(sum(data[:28])+1,len(data[:28]) + len(data[:28])/sum(data[:28]),'First 4 Weeks ')\n",
    "print(\"Lambda after first 4 weeks is \",np.mean(data[:28]))\n",
    "plot_gamma(sum(data[:35])+1,len(data[:35]) + len(data[:35])/sum(data[:35]),'5th Week ')\n",
    "print(\"Lambda after first 5 weeks is \",np.mean(data[:35]))\n",
    "plot_gamma(sum(data[:42])+1,len(data[:42]) + len(data[:42])/sum(data[:42]),'6th Week ')\n",
    "print(\"Lambda after first 6 weeks is \",np.mean(data[:42]))\n",
    "plot_gamma(sum(data[:49])+1,len(data[:49]) + len(data[:49])/sum(data[:49]),'7th Week ')\n",
    "print(\"Lambda after first 7 weeks is \",np.mean(data[:49]))\n",
    "plot_gamma(sum(data[:56])+1,len(data[:56]) + len(data[:56])/sum(data[:56]),'8th Week ')\n",
    "print(\"Lambda after first 8 weeks is \",np.mean(data[:56]))\n",
    "plt.show()\n"
   ]
  },
  {
   "cell_type": "code",
   "execution_count": null,
   "metadata": {
    "collapsed": true
   },
   "outputs": [],
   "source": []
  },
  {
   "cell_type": "code",
   "execution_count": null,
   "metadata": {
    "collapsed": true
   },
   "outputs": [],
   "source": []
  }
 ],
 "metadata": {
  "kernelspec": {
   "display_name": "Python 3",
   "language": "python",
   "name": "python3"
  },
  "language_info": {
   "codemirror_mode": {
    "name": "ipython",
    "version": 3
   },
   "file_extension": ".py",
   "mimetype": "text/x-python",
   "name": "python",
   "nbconvert_exporter": "python",
   "pygments_lexer": "ipython3",
   "version": "3.6.0"
  }
 },
 "nbformat": 4,
 "nbformat_minor": 4
}
