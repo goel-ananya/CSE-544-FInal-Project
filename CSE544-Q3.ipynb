{
 "cells": [
  {
   "cell_type": "code",
   "execution_count": null,
   "metadata": {
    "collapsed": true,
    "id": "iVA77a0qfYTF"
   },
   "outputs": [],
   "source": [
    "import numpy as np\n",
    "import matplotlib.pyplot as plt\n",
    "import pandas as pd\n",
    "import csv \n",
    "\n",
    "df = pd.read_csv('x_dataset.csv')\n",
    "x = df['Date'].values\n",
    "df['C_Total_red_meat'] = df['C_Total_red_meat'].astype(str)\n",
    "y = df['C_Total_red_meat'].values.astype(float)\n",
    "print(x)\n",
    "print(y)\n",
    "# plt.scatter(x,y)\n",
    "plt.plot(x,y)\n",
    "\n",
    "plt.rcParams[\"figure.figsize\"] = (30,3)\n",
    "plt.title(\"X dataset\")\n",
    "plt.ylabel(\"covid confirm cases\")\n",
    "plt.xlabel(\"Date\")\n",
    "plt.show()"
   ]
  },
  {
   "cell_type": "code",
   "execution_count": null,
   "metadata": {
    "collapsed": true,
    "id": "KWkVXkuTmrgU"
   },
   "outputs": [],
   "source": [
    "df = pd.read_csv('US_confirmed.csv')\n",
    "df = df[['2020-01-30','2020-02-29','2020-03-30','2020-04-30','2020-05-30','2020-06-30','2020-07-30','2020-08-30','2020-09-30','2020-10-30','2020-11-30','2020-12-30','2021-01-30','2021-02-28','2021-03-30']]\n",
    "cum = []\n",
    "for (c) in df.columns:\n",
    "  t = df[c].sum()\n",
    "  cum.append(t)\n",
    "cum = np.array(cum)\n",
    "cum_0 = np.insert(cum, 0, 0)\n",
    "cum_0 =  cum_0[:-1]\n",
    "z_sum = cum-cum_0\n",
    "z = z_sum/30\n",
    "z = np.array(z).astype(int)\n",
    "z1 = z # confirm_cases"
   ]
  },
  {
   "cell_type": "code",
   "execution_count": null,
   "metadata": {
    "collapsed": true,
    "id": "gLxE7b4l6SXI"
   },
   "outputs": [],
   "source": [
    "import numpy as np\n",
    "import matplotlib.pyplot as plt\n",
    "import pandas as pd\n",
    "import csv \n",
    "\n",
    "\n",
    "plt.scatter(x,z1)\n",
    "plt.plot(x,z1)\n",
    "plt.plot(x,y)\n",
    "\n",
    "plt.rcParams[\"figure.figsize\"] = (30,3)\n",
    "plt.title(\"Confirm Cases\")\n",
    "plt.ylabel(\"covid confirm cases\")\n",
    "plt.xlabel(\"Date\")\n",
    "plt.show()"
   ]
  },
  {
   "cell_type": "code",
   "execution_count": null,
   "metadata": {
    "collapsed": true,
    "id": "GKYjEwJhCZCG"
   },
   "outputs": [],
   "source": [
    "df = pd.read_csv('US_deaths.csv')\n",
    "df = df[['2020-01-30','2020-02-29','2020-03-30','2020-04-30','2020-05-30','2020-06-30','2020-07-30','2020-08-30','2020-09-30','2020-10-30','2020-11-30','2020-12-30','2021-01-30','2021-02-28','2021-03-30']]\n",
    "cum = []\n",
    "for (c) in df.columns:\n",
    "  t = df[c].sum()\n",
    "  cum.append(t)\n",
    "cum = np.array(cum)\n",
    "cum_0 = np.insert(cum, 0, 0)\n",
    "cum_0 =  cum_0[:-1]\n",
    "z_sum = cum-cum_0\n",
    "z = z_sum/30\n",
    "z = np.array(z).astype(int)\n",
    "z2 = z  # deaths "
   ]
  },
  {
   "cell_type": "code",
   "execution_count": null,
   "metadata": {
    "collapsed": true,
    "id": "XOljpX1LAaSc"
   },
   "outputs": [],
   "source": [
    "import numpy as np\n",
    "import matplotlib.pyplot as plt\n",
    "import pandas as pd\n",
    "import csv \n",
    "\n",
    "\n",
    "plt.scatter(x,z2)\n",
    "plt.plot(x,z2)\n",
    "plt.plot(x,y)\n",
    "# plt.axvline(x=x,ymin=min(z),ymax=max(z),color='g',linewidth=1)\n",
    "\n",
    "plt.rcParams[\"figure.figsize\"] = (30,3)\n",
    "plt.title(\"Death Cases\")\n",
    "plt.ylabel(\"covid confirm cases\")\n",
    "plt.xlabel(\"Date\")\n",
    "plt.show()"
   ]
  },
  {
   "cell_type": "code",
   "execution_count": null,
   "metadata": {
    "collapsed": true,
    "id": "baLT5ZAK23fh"
   },
   "outputs": [],
   "source": [
    "import numpy as np\n",
    "import matplotlib.pyplot as plt\n",
    "import pandas as pd\n",
    "import csv \n",
    "\n",
    "\n",
    "plt.scatter(y,z1)\n",
    "# plt.plot(z1,y)\n",
    "# plt.axvline(x=x,ymin=min(z),ymax=max(z),color='g',linewidth=1)\n",
    "\n",
    "plt.rcParams[\"figure.figsize\"] = (30,10)\n",
    "plt.title(\"X dataset vs confirm  Cases\")\n",
    "plt.ylabel(\"Confirm Cases\")\n",
    "plt.xlabel(\"x-dataset\")\n",
    "plt.show()"
   ]
  },
  {
   "cell_type": "code",
   "execution_count": null,
   "metadata": {
    "collapsed": true,
    "id": "TJcounPA23d9"
   },
   "outputs": [],
   "source": [
    "import numpy as np\n",
    "import matplotlib.pyplot as plt\n",
    "import pandas as pd\n",
    "import csv \n",
    "\n",
    "\n",
    "plt.scatter(y,z2)\n",
    "# plt.plot(z1,y)\n",
    "# plt.axvline(x=x,ymin=min(z),ymax=max(z),color='g',linewidth=1)\n",
    "\n",
    "plt.rcParams[\"figure.figsize\"] = (30,10)\n",
    "plt.title(\"X dataset vs Death  Cases\")\n",
    "plt.ylabel(\"Death Cases\")\n",
    "plt.xlabel(\"x-dataset\")\n",
    "plt.show()"
   ]
  },
  {
   "cell_type": "code",
   "execution_count": null,
   "metadata": {
    "collapsed": true,
    "id": "Fyl6-K15A2-W"
   },
   "outputs": [],
   "source": [
    "#Pearson correlation\n",
    "#\n",
    "import math\n",
    "X= np.array(y) #X dataset\n",
    "Y1 = np.array(z1) # Confirmed Cases \n",
    "Y2 = np.array(z2) # Deaths \n",
    "\n",
    "\n",
    "mean_X = np.mean(X)\n",
    "mean_Y1 = np.mean(Y1)\n",
    "mean_Y2 = np.mean(Y2)\n",
    "\n",
    "xi_xbar = X-mean_X\n",
    "y1i_ybar = Y1-mean_Y1\n",
    "y2i_ybar = Y2-mean_Y2\n",
    "\n",
    "sq_xi_xbar = np.square(xi_xbar)\n",
    "sq_y1i_ybar = np.square(y1i_ybar)\n",
    "sq_y2i_ybar = np.square(y2i_ybar)\n",
    "\n",
    "\n",
    "ro1 = sum(xi_xbar*y1i_ybar)/math.sqrt(sum(sq_xi_xbar)*sum(sq_y1i_ybar))\n",
    "ro2 = sum(xi_xbar*y2i_ybar)/math.sqrt(sum(sq_xi_xbar)*sum(sq_y2i_ybar))\n",
    "\n",
    "print(ro1)\n",
    "print(ro2)\n",
    "\n",
    "#Negative correlation of X dataset with death due to covid"
   ]
  },
  {
   "cell_type": "code",
   "execution_count": null,
   "metadata": {
    "collapsed": true,
    "id": "dw0B7ut6vzlJ"
   },
   "outputs": [],
   "source": [
    "#regression\n",
    "print(y)"
   ]
  },
  {
   "cell_type": "markdown",
   "metadata": {},
   "source": [
    "# Task 3b\n"
   ]
  },
  {
   "cell_type": "code",
   "execution_count": null,
   "metadata": {
    "collapsed": true
   },
   "outputs": [],
   "source": [
    "import numpy as np\n",
    "import matplotlib.pyplot as plt\n",
    "import pandas as pd\n",
    "import csv \n",
    "\n",
    "df = pd.read_csv('x_dataset.csv')\n",
    "x = df['Date'].values\n",
    "df['C_Total_red_meat'] = df['C_Total_red_meat'].astype(str)\n",
    "y = df['C_Total_red_meat'].values.astype(float)\n",
    "\n",
    "print(\"Red Meat Prices\")\n",
    "print(y)\n",
    "RedMeatPrice=y\n",
    "\n",
    "plt.scatter(x,y)\n",
    "plt.plot(x,y)\n",
    "# plt.axvline(x=x,ymin=min(z),ymax=max(z),color='g',linewidth=1)\n",
    "\n",
    "plt.rcParams[\"figure.figsize\"] = (30,3)\n",
    "plt.title(\"Meat Prices case\")\n",
    "plt.ylabel(\"covid confirm cases\")\n",
    "plt.xlabel(\"Date\")\n",
    "plt.show()"
   ]
  },
  {
   "cell_type": "code",
   "execution_count": null,
   "metadata": {
    "collapsed": true
   },
   "outputs": [],
   "source": [
    "df = pd.read_csv('US_confirmed.csv')\n",
    "df = df[['2020-01-30','2020-02-29','2020-03-30','2020-04-30','2020-05-30','2020-06-30','2020-07-30','2020-08-30','2020-09-30','2020-10-30','2020-11-30','2020-12-30','2021-01-30','2021-02-28','2021-03-30']]\n",
    "cum = []\n",
    "for (c) in df.columns:\n",
    "  t = df[c].sum()\n",
    "  cum.append(t)\n",
    "cum = np.array(cum)\n",
    "cum_0 = np.insert(cum, 0, 0)\n",
    "cum_0 =  cum_0[:-1]\n",
    "z_sum = cum-cum_0\n",
    "z = z_sum/30\n",
    "z = np.array(z).astype(int)\n",
    "print(\"US cases\")\n",
    "print(z)\n",
    "\n",
    "plt.scatter(x,z)\n",
    "plt.plot(x,z)\n",
    "plt.rcParams[\"figure.figsize\"] = (30,3)\n",
    "plt.title(\"Confirm Cases\")\n",
    "plt.ylabel(\"covid confirm cases\")\n",
    "plt.xlabel(\"Date\")\n",
    "plt.show()"
   ]
  },
  {
   "cell_type": "code",
   "execution_count": null,
   "metadata": {
    "collapsed": true
   },
   "outputs": [],
   "source": [
    "import numpy as np\n",
    "import matplotlib.pyplot as plt\n",
    "import pandas as pd\n",
    "import csv \n",
    "\n",
    "\n",
    "plt.scatter(x,z)\n",
    "plt.plot(x,z,label=\"Covid Cases\")\n",
    "plt.scatter(x,y*25)\n",
    "plt.plot(x,y*25,label=\"Meat Prices\")\n",
    "# plt.axvline(x=x,ymin=min(z),ymax=max(z),color='g',linewidth=1)\n",
    "\n",
    "plt.legend(loc=\"upper right\")\n",
    "plt.rcParams[\"figure.figsize\"] = (30,6)\n",
    "plt.title(\"Variation of both datasets\")\n",
    "plt.xlabel(\"Date\")\n",
    "plt.show()"
   ]
  },
  {
   "cell_type": "markdown",
   "metadata": {},
   "source": [
    "In the early days from January to March, the meat prices dropped because this was the time when COVID had just entered the United States. Although the number of cases were low, people were worried and avoided buying meat or non-veg food. This led to a decrease in prices of meat. Here there was no concrete correlation.\n",
    "\n",
    "After lockdown was imposed in April, they seem to shoot up a bit due to increase in demand and reduced supply. By now people understood what disease was and all misconceptions about emat were cleared,in this timeframe the covid cases increased and the meat prices increased.We could see a positive correlation from April to October.\n",
    "\n",
    "In November,the stats show that meat prices dropped by a high price.This can be result of two big events that happened in November which were the rolling out of vaccine in United States and Joe Biden was elected ,there can be a case that due to these events the inflation due to COVID was reduced.Although number of cases were increasing,the prices dropped.During this duration,there was negative correlation among both data."
   ]
  }
 ],
 "metadata": {
  "colab": {
   "name": "3aCSE544.ipynb",
   "private_outputs": true,
   "provenance": []
  },
  "kernelspec": {
   "display_name": "Python 3",
   "language": "python",
   "name": "python3"
  },
  "language_info": {
   "codemirror_mode": {
    "name": "ipython",
    "version": 3
   },
   "file_extension": ".py",
   "mimetype": "text/x-python",
   "name": "python",
   "nbconvert_exporter": "python",
   "pygments_lexer": "ipython3",
   "version": "3.6.0"
  }
 },
 "nbformat": 4,
 "nbformat_minor": 0
}
