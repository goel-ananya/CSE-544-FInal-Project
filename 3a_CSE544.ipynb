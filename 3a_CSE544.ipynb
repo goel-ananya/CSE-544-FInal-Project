{
  "nbformat": 4,
  "nbformat_minor": 0,
  "metadata": {
    "colab": {
      "name": "Copy of 3aCSE544.ipynb",
      "private_outputs": true,
      "provenance": [],
      "collapsed_sections": []
    },
    "kernelspec": {
      "name": "python3",
      "display_name": "Python 3"
    },
    "language_info": {
      "name": "python"
    }
  },
  "cells": [
    {
      "cell_type": "markdown",
      "metadata": {
        "id": "SA1iIGjjXx6P"
      },
      "source": [
        "**Exploratory :**\n",
        "\n",
        "1. X- dataset chosen : Commercial red meat prices from January 2020 to March 2021\n",
        "For this case we will be using three tests : \n",
        "  a. Pearsons Correlation to test whether the data set is linearly correlated or not.\n",
        "  b. Chi square test  to check if X-data set is dependent on COVID-19 dataset. \n",
        "  c. K-S test to check if the distribution of  X-dataset is same as COVID-19 dataset. \n"
      ]
    },
    {
      "cell_type": "code",
      "metadata": {
        "id": "Osd_w95CxN06"
      },
      "source": [
        "from google.colab import drive\n",
        "drive.mount('/content/gdrive')\n"
      ],
      "execution_count": null,
      "outputs": []
    },
    {
      "cell_type": "code",
      "metadata": {
        "id": "T-4br6UExcN6"
      },
      "source": [
        "cd \"/content/gdrive/MyDrive/prob Stats Final Project\""
      ],
      "execution_count": null,
      "outputs": []
    },
    {
      "cell_type": "code",
      "metadata": {
        "id": "_bqr05kyZgXf"
      },
      "source": [
        "#imports\n",
        "import numpy as np\n",
        "import matplotlib.pyplot as plt\n",
        "import pandas as pd\n",
        "import csv \n",
        "import math"
      ],
      "execution_count": null,
      "outputs": []
    },
    {
      "cell_type": "code",
      "metadata": {
        "id": "iVA77a0qfYTF"
      },
      "source": [
        "\n",
        "# Read X dataset and store in a variable as an array\n",
        "# Data set contains only monthly data for Commercial red meat prices\n",
        "df = pd.read_csv('x_dataset.csv')\n",
        "x = df['Date'].values\n",
        "df['C_Total_red_meat'] = df['C_Total_red_meat'].astype(str)\n",
        "y = df['C_Total_red_meat'].values.astype(float)\n"
      ],
      "execution_count": null,
      "outputs": []
    },
    {
      "cell_type": "code",
      "metadata": {
        "id": "KWkVXkuTmrgU"
      },
      "source": [
        "# read US_confirmed.csv from US-ALL dataset for Covid-19 cases.\n",
        "# Since Data is daily for covid-19, we will find average number of cases for the given month.\n",
        "# find difference between the number of confirm cases in the previous month, giving sum of cases for the entire month and average it.\n",
        "df = pd.read_csv('US_confirmed.csv')\n",
        "df = df[['2020-01-30','2020-02-29','2020-03-30','2020-04-30','2020-05-30','2020-06-30','2020-07-30','2020-08-30','2020-09-30','2020-10-30','2020-11-30','2020-12-30','2021-01-30','2021-02-28','2021-03-30']]\n",
        "cum = []\n",
        "for (c) in df.columns:\n",
        "  t = df[c].sum()\n",
        "  cum.append(t)\n",
        "cum = np.array(cum)\n",
        "cum_0 = np.insert(cum, 0, 0)\n",
        "cum_0 =  cum_0[:-1]\n",
        "z_sum = cum-cum_0\n",
        "z = z_sum/30\n",
        "\n",
        "#correct january2020 data as only 8 days and 8 cases\n",
        "z[0]=1\n",
        "z = np.array(z).astype(float)\n",
        "z1 = z # confirm_cases"
      ],
      "execution_count": null,
      "outputs": []
    },
    {
      "cell_type": "code",
      "metadata": {
        "id": "GKYjEwJhCZCG"
      },
      "source": [
        "# read US_deaths.csv from US-ALL dataset for Covid-19 cases.\n",
        "# Since Data is daily for covid-19, we will find average number of cases for the given month.\n",
        "# find difference between the number of death cases in the previous month, giving sum of cases for the entire month and average it.\n",
        "df = pd.read_csv('US_deaths.csv')\n",
        "df = df[['2020-01-30','2020-02-29','2020-03-30','2020-04-30','2020-05-30','2020-06-30','2020-07-30','2020-08-30','2020-09-30','2020-10-30','2020-11-30','2020-12-30','2021-01-30','2021-02-28','2021-03-30']]\n",
        "cum = []\n",
        "\n",
        "for (c) in df.columns:\n",
        "  t = df[c].sum()\n",
        "  cum.append(t)\n",
        "cum = np.array(cum)\n",
        "cum_0 = np.insert(cum, 0, 0)\n",
        "cum_0 =  cum_0[:-1]\n",
        "z_sum = cum-cum_0\n",
        "z = z_sum/30\n",
        "z = np.array(z).astype(float)\n",
        "z2 = z  # deaths  in an array\n"
      ],
      "execution_count": null,
      "outputs": []
    },
    {
      "cell_type": "markdown",
      "metadata": {
        "id": "FImK9XgJXhFi"
      },
      "source": [
        "Hypothesis 1:\n",
        "\n",
        "Pearson's correlation Confirmed Cases- \n",
        "\n",
        "H0 : Commerical Red meat Prices and average new confirm covid cases in a month are not linearly dependent\n",
        "\n",
        "H1 : Commerical Red meat Prices and average new confirm covid cases in a month are  linearly dependent\n",
        "\n",
        "Pearson's correlation death Cases- \n",
        "\n",
        "H0 : Commerical Red meat Prices and average deaths cases are not linearly dependent\n",
        "\n",
        "H1 : Commerical Red meat Prices and average death  cases in a month are  linearly dependent\n",
        "\n"
      ]
    },
    {
      "cell_type": "code",
      "metadata": {
        "id": "Fyl6-K15A2-W"
      },
      "source": [
        "#Pearson correlation\n",
        "# Using the method shown in class\n",
        "\n",
        "X= np.array(y) #X dataset\n",
        "Y1 = np.array(z1) # Confirmed Cases \n",
        "Y2 = np.array(z2) # Deaths \n",
        "\n",
        "\n",
        "mean_X = np.mean(X)\n",
        "mean_Y1 = np.mean(Y1)\n",
        "mean_Y2 = np.mean(Y2)\n",
        "\n",
        "xi_xbar = X-mean_X\n",
        "y1i_ybar = Y1-mean_Y1\n",
        "y2i_ybar = Y2-mean_Y2\n",
        "\n",
        "sq_xi_xbar = np.square(xi_xbar)\n",
        "sq_y1i_ybar = np.square(y1i_ybar)\n",
        "sq_y2i_ybar = np.square(y2i_ybar)\n",
        "\n",
        "\n",
        "sigmahatxy1 = (sum(xi_xbar*y1i_ybar)/math.sqrt(sum(sq_xi_xbar)*sum(sq_y1i_ybar))).round(2)\n",
        "sigmahatxy2 = (sum(xi_xbar*y2i_ybar)/math.sqrt(sum(sq_xi_xbar)*sum(sq_y2i_ybar))).round(2)\n",
        "\n",
        "\n",
        "print(\"Inference 1 : \")\n",
        "print(\"\\n\\n For commerical red meat prices and Confirmed Cases \\n  Sigma_hat_XY : \",sigmahatxy1,\" >=-0.5 \\n Fail to reject H0 i.e. that no correlation  exists\")\n",
        "print(\"\\n\\nFor commerical red meat prices and Death Cases \\n  Sigma_hat_XY : \",sigmahatxy2,\" >=-0.5 \\n Fail to reject H0 i.e. that no correlation  exists\")\n",
        "\n"
      ],
      "execution_count": null,
      "outputs": []
    },
    {
      "cell_type": "markdown",
      "metadata": {
        "id": "KJq17JS9e-4_"
      },
      "source": [
        "Hypothesis 2:\n",
        "\n",
        "Chi Square test for Confirmed Cases- \n",
        "\n",
        "H0 : Commerical Red meat Prices and average new confirm covid cases in a month are independent\n",
        "\n",
        "H1 : Commerical Red meat Prices and average new confirm covid cases in a month are independent\n",
        "\n",
        "Chi Square test for Confirmed Cases-\n",
        "\n",
        "H0 : Commerical Red meat Prices and average deaths cases in a month  are not independent\n",
        "\n",
        "H1 : Commerical Red meat Prices and average death  cases in a month  are not independent\n",
        "\n"
      ]
    },
    {
      "cell_type": "code",
      "metadata": {
        "id": "CsxhBLEEFWjc"
      },
      "source": [
        "# data is df and x and y re column names\n",
        "# calculating Q_obs using  chi-square test\n",
        "\n",
        "def chi_square(data,x,y):\n",
        "  r = data.shape[0]\n",
        "  c = data.shape[1]\n",
        "  obs = data[[x,y]]\n",
        "  obs.loc['Column_Total']= obs.sum(numeric_only=True, axis=0)\n",
        "  obs.loc[:,'Row_Total'] = obs.sum(numeric_only=True, axis=1)\n",
        "\n",
        "  exp = pd.DataFrame(columns=[x,y])\n",
        "\n",
        "  for cols in exp.columns:\n",
        "    for ind in obs.index:\n",
        "      exp.loc[ind,cols] = (obs.loc[ind,'Row_Total'] * obs.loc['Column_Total', cols])/obs.loc['Column_Total','Row_Total']\n",
        "  \n",
        "\n",
        "  Q_obs = np.sum(np.square(np.array((obs.iloc[:-1,:-1] - exp.iloc[:-1,:])).flatten())/np.array(exp.iloc[:-1,:]).flatten())\n",
        "\n",
        "  print(\"\\nQ_obs calculated : \",Q_obs)\n",
        "  print(\"Degree of freedom : 14\")\n",
        "  print(\"Calculated p-value : 0\")\n",
        "\n",
        "print(\"Chi square test for Confirmed Cases and Commercial red meat prices\")\n",
        "data1 = pd.DataFrame({'X':X, 'Y1':Y1})\n",
        "chi_square(data1,'X','Y1')\n",
        "\n",
        "print(\"\\n\\nChi square  test for Death Cases and Commercial red meat prices\")\n",
        "data2 = pd.DataFrame({'X':X, 'Y2':Y2})\n",
        "chi_square(data2,'X','Y2')\n",
        "\n"
      ],
      "execution_count": null,
      "outputs": []
    },
    {
      "cell_type": "markdown",
      "metadata": {
        "id": "GegNk6ZVf-yu"
      },
      "source": [
        "Inference 2 : Using Chi square for  X-dataset and confirmed case as well as X-dataset and death cases- \n",
        "Since p-value is 0 fail to reject H0 i.e. datasets are not independent.\n"
      ]
    },
    {
      "cell_type": "markdown",
      "metadata": {
        "id": "_QEX6xtPo2RJ"
      },
      "source": [
        "Hypothesis 3:\n",
        "\n",
        "K-S test for Confirmed Cases- \n",
        "\n",
        "H0 : Commerical Red meat Prices and average new confirm covid cases in a month have same distribution\n",
        "\n",
        "H1 : Commerical Red meat Prices and average new confirm covid cases in a month not have same distribution\n",
        "\n",
        "Chi Square test for Confirmed Cases-\n",
        "\n",
        "H0 : Commerical Red meat Prices and average deaths cases in a month  have same distribution\n",
        "\n",
        "H1 : Commerical Red meat Prices and average death  cases in a month  ano  have same distribution"
      ]
    },
    {
      "cell_type": "code",
      "metadata": {
        "id": "3e9ds6bzFKGU"
      },
      "source": [
        "\n",
        "def CDF_X_Y(x):\n",
        "\n",
        "  n = len(x)\n",
        "  x = sorted(x)\n",
        "  x_cdf = []\n",
        "  y_cdf = []\n",
        "  y_curr = 0\n",
        "\n",
        "  x_cdf.append(0)\n",
        "  y_cdf.append(0)\n",
        "\n",
        "  for i in x:\n",
        "    y_curr += 1/n\n",
        "    y_cdf.append(y_curr)\n",
        "    x_cdf.append(i)\n",
        "\n",
        "  return x_cdf,y_cdf\n",
        "\n",
        "def plot_eCDF(x_1, y_1, x_2, y_2, maxDifference, maxInd):\n",
        "    plt.figure(figsize=(10,5))\n",
        "    plt.step(x_1, y_1, where=\"post\", label=\"CDF of D1\")\n",
        "    plt.step(x_2, y_2, where=\"post\", label=\"CDF of D2\")\n",
        "    plt.yticks(np.arange(0, 1.1, 1/10))\n",
        "    plt.title(\"E-CDF\")\n",
        "    plt.xlabel(\"Points\")\n",
        "    plt.ylabel(\"F\")\n",
        "    plt.scatter([maxInd],[0], color='green', marker='x', s=100, label=f'Max Diff {maxDifference} at {maxInd}')\n",
        "    plt.grid(which=\"both\")\n",
        "    plt.legend()\n",
        "    plt.show()\n",
        "\n",
        "def KS2Test(d1,d2, threshold=0.05, draw=True):\n",
        "  x_1, y_1 = CDF_X_Y(d1)\n",
        "  x_2, y_2 = CDF_X_Y(d2)\n",
        "\n",
        "  n = int(min([max(x_1),max(x_2)])) +10\n",
        "\n",
        "  y_1_all = []\n",
        "  temp=0\n",
        "  for i in np.arange(n):\n",
        "    ind = np.where(np.array(x_1) == i)[0]\n",
        "    if len(ind)==0:\n",
        "      y_1_all.append(temp)\n",
        "    else:\n",
        "      y_1_all.append(y_1[ind[-1]])\n",
        "      temp = y_1[ind[-1]]\n",
        "\n",
        "  y_2_all = []\n",
        "  temp=0\n",
        "  for i in np.arange(n):\n",
        "    ind = np.where(np.array(x_2) == i)[0]\n",
        "    if len(ind)==0:\n",
        "      y_2_all.append(temp)\n",
        "    else:\n",
        "      y_2_all.append(y_2[ind[-1]])\n",
        "      temp = y_2[ind[-1]]\n",
        "\n",
        "  difference=[]\n",
        "  for i in range(n):\n",
        "    difference.append( np.absolute( y_1_all[i] - y_2_all[i]  ) )\n",
        "\n",
        "  maxDifference = np.max(difference)\n",
        "  maxInd = np.argmax(difference)\n",
        "\n",
        "  if draw:\n",
        "    plot_eCDF(x_1,y_1,x_2,y_2, maxDifference, maxInd)\n",
        "\n",
        "  if maxDifference > threshold:\n",
        "    print(f\"Max value = {maxDifference} > C: {threshold}, Reject H0\")\n",
        "  else:\n",
        "    print(f\"Max value = {maxDifference} <= C: {threshold}, Reject H0\")\n",
        "KS2Test(X,Y1)\n",
        "KS2Test(X,Y2)\n"
      ],
      "execution_count": null,
      "outputs": []
    },
    {
      "cell_type": "markdown",
      "metadata": {
        "id": "GgC5o15FqvkN"
      },
      "source": [
        "Inference 3 : Using K-S test for X-dataset and confirmed case as well as X-dataset and death cases,  reject H0 i.e. datasets have different distribution."
      ]
    }
  ]
}